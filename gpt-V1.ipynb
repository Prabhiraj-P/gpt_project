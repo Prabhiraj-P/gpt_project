{
 "cells": [
  {
   "cell_type": "code",
   "execution_count": 568,
   "metadata": {},
   "outputs": [],
   "source": [
    "import torch\n",
    "import torch.nn as nn\n",
    "import torch.nn.functional as F\n",
    "import pickle\n",
    "import matplotlib.pyplot as plt"
   ]
  },
  {
   "cell_type": "code",
   "execution_count": 569,
   "metadata": {},
   "outputs": [],
   "source": [
    "block_size=64\n",
    "batch_size=128\n",
    "max_iter=1000\n",
    "learning_rate=3e-4\n",
    "n_embd=384\n",
    "n_layer=4\n",
    "n_head=4\n",
    "dropout=0.2"
   ]
  },
  {
   "cell_type": "code",
   "execution_count": 570,
   "metadata": {},
   "outputs": [],
   "source": [
    "with open('wizard_of_oz.txt','r',encoding='utf-8') as f:\n",
    "    text=f.read()"
   ]
  },
  {
   "cell_type": "code",
   "execution_count": 571,
   "metadata": {},
   "outputs": [
    {
     "name": "stdout",
     "output_type": "stream",
     "text": [
      " the length of char is 80\n",
      "['\\n', ' ', '!', '\"', '&', \"'\", '(', ')', '*', ',', '-', '.', '0', '1', '2', '3', '4', '5', '6', '7', '8', '9', ':', ';', '?', 'A', 'B', 'C', 'D', 'E', 'F', 'G', 'H', 'I', 'J', 'K', 'L', 'M', 'N', 'O', 'P', 'Q', 'R', 'S', 'T', 'U', 'V', 'W', 'X', 'Y', 'Z', '[', ']', '_', 'a', 'b', 'c', 'd', 'e', 'f', 'g', 'h', 'i', 'j', 'k', 'l', 'm', 'n', 'o', 'p', 'q', 'r', 's', 't', 'u', 'v', 'w', 'x', 'y', 'z']\n"
     ]
    }
   ],
   "source": [
    "char=sorted(set(text))\n",
    "print(' the length of char is {}'.format(len(char)))\n",
    "print(char)\n",
    "vocab_size=len(char)"
   ]
  },
  {
   "cell_type": "code",
   "execution_count": 572,
   "metadata": {},
   "outputs": [],
   "source": [
    "string_to_int={ch:i for i, ch in enumerate(char)}\n",
    "int_to_string={i:ch for i, ch in enumerate(char)}\n",
    "encode=lambda s:[string_to_int[c] for c in s]\n",
    "decode=lambda s:\"\".join([int_to_string[c] for c in s])"
   ]
  },
  {
   "cell_type": "code",
   "execution_count": 573,
   "metadata": {},
   "outputs": [],
   "source": [
    "data = torch.tensor(encode(text), dtype=torch.long)"
   ]
  },
  {
   "cell_type": "code",
   "execution_count": 574,
   "metadata": {},
   "outputs": [],
   "source": [
    "n=int(len(text)*0.8)\n",
    "train_data=data[:n]\n",
    "val_data=data[n:]"
   ]
  },
  {
   "cell_type": "code",
   "execution_count": 575,
   "metadata": {},
   "outputs": [],
   "source": [
    "#Get batch function\n",
    "def get_batch(split):\n",
    "    data=train_data if split=='train' else val_data\n",
    "    ix=torch.randint(len(data)-block_size,(batch_size,))\n",
    "    #print(ix)\n",
    "    x=torch.stack([data[i:i+block_size] for i in ix])\n",
    "    y=torch.stack([data[i+1:i+block_size+1] for i in ix])\n",
    "    return x, y\n"
   ]
  },
  {
   "cell_type": "code",
   "execution_count": 576,
   "metadata": {},
   "outputs": [],
   "source": [
    "class Head(nn.Module):\n",
    "    def __init__(self,head_size):\n",
    "        super().__init__()\n",
    "        self.key=nn.Linear(n_embd,head_size,bias=False)\n",
    "        self.query=nn.Linear(n_embd,head_size,bias=False)\n",
    "        self.value=nn.Linear(n_embd,head_size,bias=False)\n",
    "        self.register_buffer('tril',torch.tril(torch.ones(block_size,block_size)))\n",
    "\n",
    "        self.dropout=nn.Dropout(droput)\n",
    "    def forward(self,x):\n",
    "        B,T,C=x.shape\n",
    "        k=self.key(x)\n",
    "        q=self.query(x)\n",
    "        \n",
    "        #Computing Attention score\n",
    "        wei=q@k.transpose(-2,-1)*k.shape[-1]**-0.5 # the query multiplied with transpose of key *scaling it with \n",
    "        #shape of query(q)=(Q,T,hs) and key(k)=(Q,T,hs) when q@trans(k)=> (Q,T,hs)@(Q,hs,T)=(Q,T,T)<=shape pf wei\n",
    "        wei=wei.masked_fill(self.tril[:T,:T]==0,float('-inf')) #Shape=>(B,T,T) #create a tril matrix and assign value == 0 with negetive infinity  \n",
    "        wei=F.softmax(wei,dim=-1) #shape=>(B, T, T)\n",
    "        wei=self.dropout(wei)\n",
    "        v=self.value(x)\n",
    "        out=wei @ v   #value is multiplied with attention score\n",
    "        return out"
   ]
  },
  {
   "cell_type": "code",
   "execution_count": 577,
   "metadata": {},
   "outputs": [],
   "source": [
    "class FeedForward(nn.Module):\n",
    "    def __init__(self,n_embd):\n",
    "        super().__init__() #This line calls the constructor of the parent class (nn.Module) to initialize the module.\n",
    "        self.net=nn.Sequential(\n",
    "            nn.Linear(n_embd,4*n_embd),\n",
    "            nn.ReLU(),\n",
    "            nn.Linear(4*n_embd,n_embd),\n",
    "            nn.Dropout(dropout)\n",
    "        )\n",
    "    def forward(self,x):\n",
    "        return self.net(x)"
   ]
  },
  {
   "cell_type": "code",
   "execution_count": 578,
   "metadata": {},
   "outputs": [],
   "source": [
    "class MultiheadAttention(nn.Module):\n",
    "    def __init__(self,num_heads,head_size):\n",
    "        super().__init__() #This line calls the constructor of the parent class (nn.Module) to initialize the module.\n",
    "        self.heads=nn.ModuleList([Head(head_size) for _ in range(num_heads)])\n",
    "        self.proj=nn.Linear(head_size*num_heads,n_embd)\n",
    "        self.dropout=nn.Dropout(droput)\n",
    "\n",
    "        super().__init__()\n",
    "        self.heads = nn.ModuleList([Head(head_size) for _ in range(num_heads)])\n",
    "        self.proj = nn.Linear(head_size * num_heads, n_embd)\n",
    "        self.dropout = nn.Dropout(dropout)\n",
    "\n",
    "    def forward(self,x):\n",
    "        out=torch.cat([h(x) for h in self.heads],dim=-1)  \n",
    "        out = self.dropout(self.proj(out))\n",
    "        return out  \n",
    "\n"
   ]
  },
  {
   "cell_type": "code",
   "execution_count": 579,
   "metadata": {},
   "outputs": [],
   "source": [
    "class Block(nn.Module):\n",
    "    '''Transformer BLock'''\n",
    "    def __init__(self,n_embd,n_head):\n",
    "        super().__init__() #This line calls the constructor of the parent class (nn.Module) to initialize the module.\n",
    "        head_size=n_embd//n_head\n",
    "        self.sa = MultiheadAttention(n_head, head_size)   #self attention\n",
    "        self.ffwd = FeedForward(n_embd)   \n",
    "        self.ln1 = nn.LayerNorm(n_embd)\n",
    "        self.ln2 = nn.LayerNorm(n_embd)\n",
    "    \n",
    "    def forward(self,x):\n",
    "        y=self.sa(x)             #self attention\n",
    "        x=self.ln1(x + y)          #Norm 1\n",
    "        y=self.ffwd(x)           #feed forward\n",
    "        x=self.ln2(x + y)          #Norm 2\n",
    "        return x\n",
    "     "
   ]
  },
  {
   "cell_type": "code",
   "execution_count": 580,
   "metadata": {},
   "outputs": [],
   "source": [
    "class GptLanguageModel(nn.Module):\n",
    "    def __init__(self,vocab_size):\n",
    "        super().__init__() #This line calls the constructor of the parent class (nn.Module) to initialize the module.\n",
    "        self.token_embedding_table=nn.Embedding(vocab_size,n_embd)\n",
    "        self.position_embedding_table=nn.Embedding(block_size,n_embd)\n",
    "        self.blocks=nn.Sequential(*[Block(n_embd,n_head) for _ in range(n_layer)])\n",
    "        self.ln_f=nn.LayerNorm(n_embd) #final layer norm\n",
    "        self.lm_head=nn.Linear(n_embd,vocab_size)\n",
    "\n",
    "       # self.apply(self.__init__weights)\n",
    "    \n",
    "    def __init__weights(self,module):\n",
    "        if isinstance(module,nn.Linear):\n",
    "            torch.nn.init.normal_(module.weight,mean=0.0,std=0.0)\n",
    "        if module.bias is not None:\n",
    "            torch.nn.init.zeros(module.bias)\n",
    "        elif isinstance(module,nn.Embedding):\n",
    "            torch.nn.init.normal_(module.weight,mean=0.0,std=0.0)\n",
    "    \n",
    "    def forward(self,index,target=None):\n",
    "       logit=self.token_embedding_table(index)\n",
    "       B, T, C=logit.shape\n",
    "       # index and targets are both (B,T) tensor of integers\n",
    "       token_emb=self.token_embedding_table(index)\n",
    "       pos_emb = self.position_embedding_table(torch.arange(T))\n",
    "       #pos_emb=self.position_embedding_table(torch.arrange(T)) \n",
    "       x=token_emb + pos_emb\n",
    "     \n",
    "       x=self.blocks(x) #Some error here\n",
    "       x=self.ln_f(x)\n",
    "       logit=self.lm_head(x)\n",
    "\n",
    "       if target==None:\n",
    "            loss=None\n",
    "       else:\n",
    "         #geting shape of logits\n",
    "         B, T, C=logit.shape\n",
    "         logit=logit.view(B*T,C)\n",
    "         target=target.view(B*T)\n",
    "         loss=F.cross_entropy(logit,target)\n",
    "        \n",
    "       return logit, loss\n",
    "    \n",
    "    def generate(self,index,max_new_tokens):\n",
    "        #index is (B,T) array of indices in the current content\n",
    "        for _ in range(max_new_tokens):\n",
    "            #get prediction\n",
    "            logit, loss=self.forward(index)\n",
    "            #focus only on last step\n",
    "            logit=logit[:,-1,:] #becomes (B,C)\n",
    "            probs=F.softmax(logit,dim=-1) #(B,C)\n",
    "            index_next=torch.multinomial(probs,num_samples=1)\n",
    "            #append sampled index to the running sequence\n",
    "            index=torch.cat((index,index_next),dim=1)\n",
    "        return index\n"
   ]
  },
  {
   "cell_type": "code",
   "execution_count": 581,
   "metadata": {},
   "outputs": [],
   "source": [
    "model=GptLanguageModel(vocab_size)"
   ]
  },
  {
   "cell_type": "code",
   "execution_count": 582,
   "metadata": {},
   "outputs": [],
   "source": [
    "context=torch.zeros((1,1),dtype=torch.long,)"
   ]
  },
  {
   "cell_type": "code",
   "execution_count": 583,
   "metadata": {},
   "outputs": [
    {
     "name": "stdout",
     "output_type": "stream",
     "text": [
      "torch.Size([128, 64, 384])\n",
      "torch.Size([128, 64, 384])\n",
      "torch.Size([128, 64, 384])\n",
      "torch.Size([128, 64, 384])\n",
      "torch.Size([128, 64, 384])\n",
      "torch.Size([128, 64, 384])\n",
      "torch.Size([128, 64, 384])\n",
      "torch.Size([128, 64, 384])\n",
      "torch.Size([128, 64, 384])\n",
      "torch.Size([128, 64, 384])\n",
      "torch.Size([128, 64, 384])\n",
      "torch.Size([128, 64, 384])\n",
      "torch.Size([128, 64, 384])\n",
      "torch.Size([128, 64, 384])\n",
      "torch.Size([128, 64, 384])\n",
      "torch.Size([128, 64, 384])\n",
      "torch.Size([128, 64, 384])\n",
      "torch.Size([128, 64, 384])\n",
      "torch.Size([128, 64, 384])\n",
      "torch.Size([128, 64, 384])\n",
      "torch.Size([128, 64, 384])\n",
      "torch.Size([128, 64, 384])\n",
      "torch.Size([128, 64, 384])\n",
      "torch.Size([128, 64, 384])\n",
      "torch.Size([128, 64, 384])\n",
      "torch.Size([128, 64, 384])\n",
      "torch.Size([128, 64, 384])\n",
      "torch.Size([128, 64, 384])\n",
      "torch.Size([128, 64, 384])\n",
      "torch.Size([128, 64, 384])\n",
      "torch.Size([128, 64, 384])\n",
      "torch.Size([128, 64, 384])\n",
      "torch.Size([128, 64, 384])\n",
      "torch.Size([128, 64, 384])\n",
      "torch.Size([128, 64, 384])\n",
      "torch.Size([128, 64, 384])\n",
      "torch.Size([128, 64, 384])\n",
      "torch.Size([128, 64, 384])\n",
      "torch.Size([128, 64, 384])\n"
     ]
    },
    {
     "ename": "",
     "evalue": "",
     "output_type": "error",
     "traceback": [
      "\u001b[1;31mThe Kernel crashed while executing code in the the current cell or a previous cell. Please review the code in the cell(s) to identify a possible cause of the failure. Click <a href='https://aka.ms/vscodeJupyterKernelCrash'>here</a> for more info. View Jupyter <a href='command:jupyter.viewOutput'>log</a> for further details."
     ]
    }
   ],
   "source": [
    "\n",
    "optimizer=torch.optim.AdamW(model.parameters(),lr=learning_rate)\n",
    "losst=[]\n",
    "\n",
    "for iter in range(max_iter):\n",
    "    xb, yb=get_batch('train')\n",
    "    if iter % eval_iters == 0:\n",
    "        losses = estimate_loss()\n",
    "        print(f\"step: {iter}, train loss: {losses['train']:.3f}, val loss: {losses['val']:.3f}\")\n",
    "\n",
    "    #Evluate loss\n",
    "    logit, loss=model.forward(xb,yb)\n",
    "\n",
    "    losst.append(loss)\n",
    "    optimizer.zero_grad(set_to_none=True)\n",
    "    loss.backward()\n",
    "    optimizer.step()\n",
    "with open('model-01.pkl', 'wb') as f:\n",
    "pickle.dump(model, f)\n",
    "print('model saved')\n"
   ]
  }
 ],
 "metadata": {
  "kernelspec": {
   "display_name": "Python 3",
   "language": "python",
   "name": "python3"
  },
  "language_info": {
   "codemirror_mode": {
    "name": "ipython",
    "version": 3
   },
   "file_extension": ".py",
   "mimetype": "text/x-python",
   "name": "python",
   "nbconvert_exporter": "python",
   "pygments_lexer": "ipython3",
   "version": "3.11.6"
  },
  "orig_nbformat": 4
 },
 "nbformat": 4,
 "nbformat_minor": 2
}

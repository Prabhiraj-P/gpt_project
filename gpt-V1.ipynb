{
 "cells": [
  {
   "cell_type": "code",
   "execution_count": 54,
   "metadata": {},
   "outputs": [],
   "source": [
    "import torch\n",
    "import torch.nn as nn\n",
    "import torch.nn.functional as F\n",
    "import matplotlib.pyplot as plt"
   ]
  },
  {
   "cell_type": "code",
   "execution_count": 55,
   "metadata": {},
   "outputs": [],
   "source": [
    "block_size=8\n",
    "batch_size=4\n",
    "max_iter=10000\n",
    "learning_rate=3e-4\n",
    "n_embd=384\n",
    "n_layer=4"
   ]
  },
  {
   "cell_type": "code",
   "execution_count": 56,
   "metadata": {},
   "outputs": [],
   "source": [
    "with open('wizard_of_oz.txt','r',encoding='utf-8') as f:\n",
    "    text=f.read()"
   ]
  },
  {
   "cell_type": "code",
   "execution_count": 57,
   "metadata": {},
   "outputs": [
    {
     "name": "stdout",
     "output_type": "stream",
     "text": [
      " the length of char is 80\n",
      "['\\n', ' ', '!', '\"', '&', \"'\", '(', ')', '*', ',', '-', '.', '0', '1', '2', '3', '4', '5', '6', '7', '8', '9', ':', ';', '?', 'A', 'B', 'C', 'D', 'E', 'F', 'G', 'H', 'I', 'J', 'K', 'L', 'M', 'N', 'O', 'P', 'Q', 'R', 'S', 'T', 'U', 'V', 'W', 'X', 'Y', 'Z', '[', ']', '_', 'a', 'b', 'c', 'd', 'e', 'f', 'g', 'h', 'i', 'j', 'k', 'l', 'm', 'n', 'o', 'p', 'q', 'r', 's', 't', 'u', 'v', 'w', 'x', 'y', 'z']\n"
     ]
    }
   ],
   "source": [
    "char=sorted(set(text))\n",
    "print(' the length of char is {}'.format(len(char)))\n",
    "print(char)\n",
    "vocab_size=len(char)"
   ]
  },
  {
   "cell_type": "code",
   "execution_count": 58,
   "metadata": {},
   "outputs": [],
   "source": [
    "string_to_int={ch:i for i, ch in enumerate(char)}\n",
    "int_to_string={i:ch for i, ch in enumerate(char)}\n",
    "encode=lambda s:[string_to_int[c] for c in s]\n",
    "decode=lambda s:\"\".join([int_to_string[c] for c in s])"
   ]
  },
  {
   "cell_type": "code",
   "execution_count": 59,
   "metadata": {},
   "outputs": [],
   "source": [
    "data = torch.tensor(encode(text), dtype=torch.long)"
   ]
  },
  {
   "cell_type": "code",
   "execution_count": 60,
   "metadata": {},
   "outputs": [],
   "source": [
    "n=int(len(text)*0.8)\n",
    "train_data=data[:n]\n",
    "val_data=data[n:]"
   ]
  },
  {
   "cell_type": "code",
   "execution_count": 61,
   "metadata": {},
   "outputs": [],
   "source": [
    "#Get batch function\n",
    "def get_batch(split):\n",
    "    data=train_data if split=='train' else val_data\n",
    "    ix=torch.randint(len(data)-block_size,(batch_size,))\n",
    "    #print(ix)\n",
    "    x=torch.stack([data[i:i+block_size] for i in ix])\n",
    "    y=torch.stack([data[i+1:i+block_size+1] for i in ix])\n",
    "    return x, y\n"
   ]
  },
  {
   "cell_type": "code",
   "execution_count": 66,
   "metadata": {},
   "outputs": [],
   "source": [
    "class GptLanguageModel(nn.Module):\n",
    "    def __init__(self,vocab_size):\n",
    "        super().__init__()\n",
    "        self.token_embedding_table=nn.Embedding(vocab_size,n_embd)\n",
    "        self.position_embedding_table=nn.Embedding(block_size,n_embd)\n",
    "        self.block=nn.Sequential(*[block(n_embd,n_head=n_head) for _ in range(n_layer)])\n",
    "        self.ln_f=nn.LayerNorm(n_embd) #final layer norm\n",
    "        self.lm_head=nn.Linear(n_embd,vocab_size)\n",
    "    \n",
    "    def forward(self,index,target=None):\n",
    "       \n",
    "       token_emb=self.token_embedding_table(idx)\n",
    "       pos_emb=self.position_embedding_table(torch.arrange(T)) \n",
    "       x=token_emb+pos_emb\n",
    "       x=self.block(x)\n",
    "       x=self.ln_f(x)\n",
    "       logit=self.lm_head(x)\n",
    "\n",
    "       if target==None:\n",
    "            loss=None\n",
    "       else:\n",
    "         #geting shape of logits\n",
    "         B, T, C=logit.shape\n",
    "         logit=logit.view(B*T,C)\n",
    "         target=target.view(B*T)\n",
    "         loss=F.cross_entropy(logit,target)\n",
    "        \n",
    "       return logit, loss\n",
    "    \n",
    "    def generate(self,index,max_new_tokens):\n",
    "        #index is (B,T) array of indices in the current content\n",
    "        for _ in range(max_new_tokens):\n",
    "            #get prediction\n",
    "            logit, loss=self.forward(index)\n",
    "            #focus only on last step\n",
    "            logit=logit[:,-1,:] #becomes (B,C)\n",
    "            probs=F.softmax(logit,dim=-1) #(B,C)\n",
    "            index_next=torch.multinomial(probs,num_samples=1)\n",
    "            #append sampled index to the running sequence\n",
    "            index=torch.cat((index,index_next),dim=1)\n",
    "        return index\n"
   ]
  },
  {
   "cell_type": "code",
   "execution_count": 63,
   "metadata": {},
   "outputs": [
    {
     "ename": "NameError",
     "evalue": "name 'block' is not defined",
     "output_type": "error",
     "traceback": [
      "\u001b[1;31m---------------------------------------------------------------------------\u001b[0m",
      "\u001b[1;31mNameError\u001b[0m                                 Traceback (most recent call last)",
      "\u001b[1;32md:\\Jovian data\\Deep Learning\\gpt_project\\gpt-V1.ipynb Cell 10\u001b[0m line \u001b[0;36m1\n\u001b[1;32m----> <a href='vscode-notebook-cell:/d%3A/Jovian%20data/Deep%20Learning/gpt_project/gpt-V1.ipynb#W5sZmlsZQ%3D%3D?line=0'>1</a>\u001b[0m model\u001b[39m=\u001b[39mGptLanguageModel(vocab_size)\n",
      "\u001b[1;32md:\\Jovian data\\Deep Learning\\gpt_project\\gpt-V1.ipynb Cell 10\u001b[0m line \u001b[0;36m6\n\u001b[0;32m      <a href='vscode-notebook-cell:/d%3A/Jovian%20data/Deep%20Learning/gpt_project/gpt-V1.ipynb#W5sZmlsZQ%3D%3D?line=3'>4</a>\u001b[0m \u001b[39mself\u001b[39m\u001b[39m.\u001b[39mtoken_embedding_table\u001b[39m=\u001b[39mnn\u001b[39m.\u001b[39mEmbedding(vocab_size,n_embd)\n\u001b[0;32m      <a href='vscode-notebook-cell:/d%3A/Jovian%20data/Deep%20Learning/gpt_project/gpt-V1.ipynb#W5sZmlsZQ%3D%3D?line=4'>5</a>\u001b[0m \u001b[39mself\u001b[39m\u001b[39m.\u001b[39mposition_embedding_table\u001b[39m=\u001b[39mnn\u001b[39m.\u001b[39mEmbedding(block_size,n_embd)\n\u001b[1;32m----> <a href='vscode-notebook-cell:/d%3A/Jovian%20data/Deep%20Learning/gpt_project/gpt-V1.ipynb#W5sZmlsZQ%3D%3D?line=5'>6</a>\u001b[0m \u001b[39mself\u001b[39m\u001b[39m.\u001b[39mblock\u001b[39m=\u001b[39mnn\u001b[39m.\u001b[39mSequential(\u001b[39m*\u001b[39m[block(n_embd,n_head\u001b[39m=\u001b[39;49mn_head) \u001b[39mfor\u001b[39;49;00m _ \u001b[39min\u001b[39;49;00m \u001b[39mrange\u001b[39;49m(n_layer)])\n\u001b[0;32m      <a href='vscode-notebook-cell:/d%3A/Jovian%20data/Deep%20Learning/gpt_project/gpt-V1.ipynb#W5sZmlsZQ%3D%3D?line=6'>7</a>\u001b[0m \u001b[39mself\u001b[39m\u001b[39m.\u001b[39mln_f\u001b[39m=\u001b[39mnn\u001b[39m.\u001b[39mLayerNorm(n_embd) \u001b[39m#final layer norm\u001b[39;00m\n\u001b[0;32m      <a href='vscode-notebook-cell:/d%3A/Jovian%20data/Deep%20Learning/gpt_project/gpt-V1.ipynb#W5sZmlsZQ%3D%3D?line=7'>8</a>\u001b[0m \u001b[39mself\u001b[39m\u001b[39m.\u001b[39mlm_head\u001b[39m=\u001b[39mnn\u001b[39m.\u001b[39mLinear(n_embd,vocab_size)\n",
      "\u001b[1;32md:\\Jovian data\\Deep Learning\\gpt_project\\gpt-V1.ipynb Cell 10\u001b[0m line \u001b[0;36m6\n\u001b[0;32m      <a href='vscode-notebook-cell:/d%3A/Jovian%20data/Deep%20Learning/gpt_project/gpt-V1.ipynb#W5sZmlsZQ%3D%3D?line=3'>4</a>\u001b[0m \u001b[39mself\u001b[39m\u001b[39m.\u001b[39mtoken_embedding_table\u001b[39m=\u001b[39mnn\u001b[39m.\u001b[39mEmbedding(vocab_size,n_embd)\n\u001b[0;32m      <a href='vscode-notebook-cell:/d%3A/Jovian%20data/Deep%20Learning/gpt_project/gpt-V1.ipynb#W5sZmlsZQ%3D%3D?line=4'>5</a>\u001b[0m \u001b[39mself\u001b[39m\u001b[39m.\u001b[39mposition_embedding_table\u001b[39m=\u001b[39mnn\u001b[39m.\u001b[39mEmbedding(block_size,n_embd)\n\u001b[1;32m----> <a href='vscode-notebook-cell:/d%3A/Jovian%20data/Deep%20Learning/gpt_project/gpt-V1.ipynb#W5sZmlsZQ%3D%3D?line=5'>6</a>\u001b[0m \u001b[39mself\u001b[39m\u001b[39m.\u001b[39mblock\u001b[39m=\u001b[39mnn\u001b[39m.\u001b[39mSequential(\u001b[39m*\u001b[39m[block(n_embd,n_head\u001b[39m=\u001b[39mn_head) \u001b[39mfor\u001b[39;00m _ \u001b[39min\u001b[39;00m \u001b[39mrange\u001b[39m(n_layer)])\n\u001b[0;32m      <a href='vscode-notebook-cell:/d%3A/Jovian%20data/Deep%20Learning/gpt_project/gpt-V1.ipynb#W5sZmlsZQ%3D%3D?line=6'>7</a>\u001b[0m \u001b[39mself\u001b[39m\u001b[39m.\u001b[39mln_f\u001b[39m=\u001b[39mnn\u001b[39m.\u001b[39mLayerNorm(n_embd) \u001b[39m#final layer norm\u001b[39;00m\n\u001b[0;32m      <a href='vscode-notebook-cell:/d%3A/Jovian%20data/Deep%20Learning/gpt_project/gpt-V1.ipynb#W5sZmlsZQ%3D%3D?line=7'>8</a>\u001b[0m \u001b[39mself\u001b[39m\u001b[39m.\u001b[39mlm_head\u001b[39m=\u001b[39mnn\u001b[39m.\u001b[39mLinear(n_embd,vocab_size)\n",
      "\u001b[1;31mNameError\u001b[0m: name 'block' is not defined"
     ]
    }
   ],
   "source": [
    "model=GptLanguageModel(vocab_size)"
   ]
  },
  {
   "cell_type": "code",
   "execution_count": 72,
   "metadata": {},
   "outputs": [
    {
     "name": "stdout",
     "output_type": "stream",
     "text": [
      "tensor([[[1.0286e-38]]])\n"
     ]
    }
   ],
   "source": [
    "print(torch.empty(1,1,1))"
   ]
  },
  {
   "cell_type": "code",
   "execution_count": null,
   "metadata": {},
   "outputs": [],
   "source": [
    "context=torch.zeros((1,1),dtype=torch.long,)"
   ]
  },
  {
   "cell_type": "code",
   "execution_count": null,
   "metadata": {},
   "outputs": [
    {
     "name": "stdout",
     "output_type": "stream",
     "text": [
      "\n",
      "ro yowowa so o t idokld bl\n",
      "\n",
      "oreinthy thy't\n",
      "\" a f ew,\"y-helevex.\n",
      "\n",
      "\"\n",
      "arerkemun s.\n",
      "ane f ad y bend mer t, s ve om.\"Ye bufry.\n",
      "ABunge t omed tt wontllimbeey,  ch.\n",
      "\n",
      "\"E STe wouseacerdouse.\n",
      "\n",
      "des. aut ve the\n",
      "Zou thed fis theed borr thacewenelllosene om, g'ld ntharwo ld--om, wlavo wad aler aine thats it e e abr Ther stonthand ato\n",
      "Th thave thy ME\n",
      "exche bifil a t mad\n",
      "\n",
      "f ded Ther th scthealcthangouted thamanoougas ad aply,\"Ozmpizas. y.\n",
      "AX1. re th ot h o,\" y thee fled tond. tht  towanhan\n",
      "\n",
      "Th rt, 1786.\n",
      "cey; we\n"
     ]
    }
   ],
   "source": [
    "generated_char=decode(model.generate(\n",
    "    context,\n",
    "    max_new_tokens=500)[0].tolist()\n",
    ")\n",
    "print(generated_char)\n"
   ]
  },
  {
   "cell_type": "code",
   "execution_count": null,
   "metadata": {},
   "outputs": [
    {
     "name": "stdout",
     "output_type": "stream",
     "text": [
      "tensor(2.7099, grad_fn=<NllLossBackward0>)\n"
     ]
    }
   ],
   "source": [
    "\n",
    "optimizer=torch.optim.AdamW(model.parameters(),lr=learning_rate)\n",
    "losst=[]\n",
    "\n",
    "for iter in range(max_iter*2):\n",
    "    xb, yb=get_batch('train')\n",
    "\n",
    "    #Evluate loss\n",
    "\n",
    "    logit, loss=model.forward(xb,yb)\n",
    "    losst.append(loss)\n",
    "    optimizer.zero_grad(set_to_none=True)\n",
    "    loss.backward()\n",
    "    optimizer.step()\n",
    "print(loss)"
   ]
  }
 ],
 "metadata": {
  "kernelspec": {
   "display_name": "Python 3",
   "language": "python",
   "name": "python3"
  },
  "language_info": {
   "codemirror_mode": {
    "name": "ipython",
    "version": 3
   },
   "file_extension": ".py",
   "mimetype": "text/x-python",
   "name": "python",
   "nbconvert_exporter": "python",
   "pygments_lexer": "ipython3",
   "version": "3.11.6"
  },
  "orig_nbformat": 4
 },
 "nbformat": 4,
 "nbformat_minor": 2
}

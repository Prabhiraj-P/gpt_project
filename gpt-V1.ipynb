{
 "cells": [
  {
   "cell_type": "code",
   "execution_count": 23,
   "metadata": {},
   "outputs": [],
   "source": [
    "import torch\n",
    "import torch.nn as nn\n",
    "import torch.nn.functional as F\n",
    "import pickle\n",
    "import os\n",
    "import matplotlib.pyplot as plt"
   ]
  },
  {
   "cell_type": "code",
   "execution_count": 24,
   "metadata": {},
   "outputs": [],
   "source": [
    "block_size=64\n",
    "batch_size=128\n",
    "max_iters=1000\n",
    "eval_iters=50\n",
    "learning_rate=3e-4\n",
    "n_embd=384\n",
    "n_layer=4\n",
    "n_head=4\n",
    "dropout=0.2"
   ]
  },
  {
   "cell_type": "code",
   "execution_count": 25,
   "metadata": {},
   "outputs": [],
   "source": [
    "with open('wizard_of_oz.txt','r',encoding='utf-8') as f:\n",
    "    text=f.read()"
   ]
  },
  {
   "cell_type": "code",
   "execution_count": 26,
   "metadata": {},
   "outputs": [
    {
     "name": "stdout",
     "output_type": "stream",
     "text": [
      " the length of char is 80\n",
      "['\\n', ' ', '!', '\"', '&', \"'\", '(', ')', '*', ',', '-', '.', '0', '1', '2', '3', '4', '5', '6', '7', '8', '9', ':', ';', '?', 'A', 'B', 'C', 'D', 'E', 'F', 'G', 'H', 'I', 'J', 'K', 'L', 'M', 'N', 'O', 'P', 'Q', 'R', 'S', 'T', 'U', 'V', 'W', 'X', 'Y', 'Z', '[', ']', '_', 'a', 'b', 'c', 'd', 'e', 'f', 'g', 'h', 'i', 'j', 'k', 'l', 'm', 'n', 'o', 'p', 'q', 'r', 's', 't', 'u', 'v', 'w', 'x', 'y', 'z']\n"
     ]
    }
   ],
   "source": [
    "char=sorted(set(text))\n",
    "print(' the length of char is {}'.format(len(char)))\n",
    "print(char)\n",
    "vocab_size=len(char)"
   ]
  },
  {
   "cell_type": "code",
   "execution_count": 27,
   "metadata": {},
   "outputs": [],
   "source": [
    "string_to_int={ch:i for i, ch in enumerate(char)}\n",
    "int_to_string={i:ch for i, ch in enumerate(char)}\n",
    "encode=lambda s:[string_to_int[c] for c in s]\n",
    "decode=lambda s:\"\".join([int_to_string[c] for c in s])"
   ]
  },
  {
   "cell_type": "code",
   "execution_count": 28,
   "metadata": {},
   "outputs": [],
   "source": [
    "data = torch.tensor(encode(text), dtype=torch.long)"
   ]
  },
  {
   "cell_type": "code",
   "execution_count": 29,
   "metadata": {},
   "outputs": [],
   "source": [
    "n=int(len(text)*0.8)\n",
    "train_data=data[:n]\n",
    "val_data=data[n:]"
   ]
  },
  {
   "cell_type": "code",
   "execution_count": 30,
   "metadata": {},
   "outputs": [],
   "source": [
    "#Get batch function\n",
    "def get_batch(split):\n",
    "    data=train_data if split=='train' else val_data\n",
    "    ix=torch.randint(len(data)-block_size,(batch_size,))\n",
    "    #print(ix)\n",
    "    x=torch.stack([data[i:i+block_size] for i in ix])\n",
    "    y=torch.stack([data[i+1:i+block_size+1] for i in ix])\n",
    "    return x, y\n"
   ]
  },
  {
   "cell_type": "code",
   "execution_count": 67,
   "metadata": {},
   "outputs": [
    {
     "name": "stdout",
     "output_type": "stream",
     "text": [
      " n cwretpg hyld',i 'int l aesi\"H sat er do nmgt s\n",
      "onef  anrtei lnhe swe leoihha t onr sl oy  ie  heeetyo   tg\n",
      "tnii.gN ihwae fgrsaglae  heaae   s thscohDeMr .n uces uret two,n Za\n",
      "fsriwhd e scaeteri h iydwrqenfrtyneo.aeroaosmupy  nhomyknlr\"  rs\"holluonrbalee\n"
     ]
    }
   ],
   "source": [
    "char_list=[]\n",
    "for x in get_batch('train'):\n",
    "    for x in x:\n",
    "      char_list.append(int(x[0]))\n",
    "print(decode(char_list))\n",
    "\n",
    " "
   ]
  },
  {
   "cell_type": "code",
   "execution_count": 9,
   "metadata": {},
   "outputs": [],
   "source": [
    "class Head(nn.Module):\n",
    "    def __init__(self,head_size):\n",
    "        super().__init__()\n",
    "        self.key=nn.Linear(n_embd,head_size,bias=False)\n",
    "        self.query=nn.Linear(n_embd,head_size,bias=False)\n",
    "        self.value=nn.Linear(n_embd,head_size,bias=False)\n",
    "        self.register_buffer('tril',torch.tril(torch.ones(block_size,block_size)))\n",
    "\n",
    "        self.dropout=nn.Dropout(dropout)\n",
    "    def forward(self,x):\n",
    "        B,T,C=x.shape\n",
    "        k=self.key(x)\n",
    "        q=self.query(x)\n",
    "        \n",
    "        #Computing Attention score\n",
    "        wei=q@k.transpose(-2,-1)*k.shape[-1]**-0.5 # the query multiplied with transpose of key *scaling it with \n",
    "        #shape of query(q)=(Q,T,hs) and key(k)=(Q,T,hs) when q@trans(k)=> (Q,T,hs)@(Q,hs,T)=(Q,T,T)<=shape pf wei\n",
    "        wei=wei.masked_fill(self.tril[:T,:T]==0,float('-inf')) #Shape=>(B,T,T) #create a tril matrix and assign value == 0 with negetive infinity  \n",
    "        wei=F.softmax(wei,dim=-1) #shape=>(B, T, T)\n",
    "        wei=self.dropout(wei)\n",
    "        v=self.value(x)\n",
    "        out=wei @ v   #value is multiplied with attention score\n",
    "        return out"
   ]
  },
  {
   "cell_type": "code",
   "execution_count": 10,
   "metadata": {},
   "outputs": [],
   "source": [
    "class FeedForward(nn.Module):\n",
    "    def __init__(self,n_embd):\n",
    "        super().__init__() #This line calls the constructor of the parent class (nn.Module) to initialize the module.\n",
    "        self.net=nn.Sequential(\n",
    "            nn.Linear(n_embd,4*n_embd),\n",
    "            nn.ReLU(),\n",
    "            nn.Linear(4*n_embd,n_embd),\n",
    "            nn.Dropout(dropout)\n",
    "        )\n",
    "    def forward(self,x):\n",
    "        return self.net(x)"
   ]
  },
  {
   "cell_type": "code",
   "execution_count": 11,
   "metadata": {},
   "outputs": [],
   "source": [
    "class MultiheadAttention(nn.Module):\n",
    "    def __init__(self,num_heads,head_size):\n",
    "        super().__init__() #This line calls the constructor of the parent class (nn.Module) to initialize the module.\n",
    "        self.heads=nn.ModuleList([Head(head_size) for _ in range(num_heads)])\n",
    "        self.proj=nn.Linear(head_size*num_heads,n_embd)\n",
    "        self.dropout=nn.Dropout(dropout)\n",
    "\n",
    "        super().__init__()\n",
    "        self.heads = nn.ModuleList([Head(head_size) for _ in range(num_heads)])\n",
    "        self.proj = nn.Linear(head_size * num_heads, n_embd)\n",
    "        self.dropout = nn.Dropout(dropout)\n",
    "\n",
    "    def forward(self,x):\n",
    "        out=torch.cat([h(x) for h in self.heads],dim=-1)  \n",
    "        out = self.dropout(self.proj(out))\n",
    "        return out  \n",
    "\n"
   ]
  },
  {
   "cell_type": "code",
   "execution_count": 12,
   "metadata": {},
   "outputs": [],
   "source": [
    "class Block(nn.Module):\n",
    "    '''Transformer BLock'''\n",
    "    def __init__(self,n_embd,n_head):\n",
    "        super().__init__() #This line calls the constructor of the parent class (nn.Module) to initialize the module.\n",
    "        head_size=n_embd//n_head\n",
    "        self.sa = MultiheadAttention(n_head, head_size)   #self attention\n",
    "        self.ffwd = FeedForward(n_embd)   \n",
    "        self.ln1 = nn.LayerNorm(n_embd)\n",
    "        self.ln2 = nn.LayerNorm(n_embd)\n",
    "    \n",
    "    def forward(self,x):\n",
    "        y=self.sa(x)             #self attention\n",
    "        x=self.ln1(x + y)          #Norm 1\n",
    "        y=self.ffwd(x)           #feed forward\n",
    "        x=self.ln2(x + y)          #Norm 2\n",
    "        return x\n",
    "     "
   ]
  },
  {
   "cell_type": "code",
   "execution_count": 13,
   "metadata": {},
   "outputs": [],
   "source": [
    "class GptLanguageModel(nn.Module):\n",
    "    def __init__(self,vocab_size):\n",
    "        super().__init__() #This line calls the constructor of the parent class (nn.Module) to initialize the module.\n",
    "        self.token_embedding_table=nn.Embedding(vocab_size,n_embd)\n",
    "        self.position_embedding_table=nn.Embedding(block_size,n_embd)\n",
    "        self.blocks=nn.Sequential(*[Block(n_embd,n_head) for _ in range(n_layer)])\n",
    "        self.ln_f=nn.LayerNorm(n_embd) #final layer norm\n",
    "        self.lm_head=nn.Linear(n_embd,vocab_size)\n",
    "\n",
    "       # self.apply(self.__init__weights)\n",
    "    \n",
    "    def __init__weights(self,module):\n",
    "        if isinstance(module,nn.Linear):\n",
    "            torch.nn.init.normal_(module.weight,mean=0.0,std=0.0)\n",
    "        if module.bias is not None:\n",
    "            torch.nn.init.zeros(module.bias)\n",
    "        elif isinstance(module,nn.Embedding):\n",
    "            torch.nn.init.normal_(module.weight,mean=0.0,std=0.0)\n",
    "    \n",
    "    def forward(self,index,target=None):\n",
    "       logit=self.token_embedding_table(index)\n",
    "       B, T, C=logit.shape\n",
    "       # index and targets are both (B,T) tensor of integers\n",
    "       token_emb=self.token_embedding_table(index)\n",
    "       pos_emb = self.position_embedding_table(torch.arange(T))\n",
    "       #pos_emb = self.position_embedding_table(torch.arange(T))\n",
    "       x=token_emb + pos_emb\n",
    "     \n",
    "       x=self.blocks(x) #Some error here\n",
    "       x=self.ln_f(x)\n",
    "       logit=self.lm_head(x)\n",
    "\n",
    "       if target==None:\n",
    "            loss=None\n",
    "       else:\n",
    "         #geting shape of logits\n",
    "         B, T, C=logit.shape\n",
    "         logit=logit.view(B*T,C)\n",
    "         target=target.view(B*T)\n",
    "         loss=F.cross_entropy(logit,target)\n",
    "        \n",
    "       return logit, loss\n",
    "    \n",
    "    \n",
    "    def generate(self, index, max_new_tokens):\n",
    "        # index is (B, T) array of indices in the current context\n",
    "        for _ in range(max_new_tokens):\n",
    "            # crop idx to the last block_size tokens\n",
    "            index_cond = index[:, -block_size:]\n",
    "            # get the predictions\n",
    "            logits, loss = self.forward(index_cond)\n",
    "            # focus only on the last time step\n",
    "            logits = logits[:, -1, :] # becomes (B, C)\n",
    "            # apply softmax to get probabilities\n",
    "            probs = F.softmax(logits, dim=-1) # (B, C)\n",
    "            # sample from the distribution\n",
    "            index_next = torch.multinomial(probs, num_samples=1) # (B, 1)\n",
    "            # append sampled index to the running sequence\n",
    "            index = torch.cat((index, index_next), dim=1) # (B, T+1)\n",
    "        return index\n"
   ]
  },
  {
   "cell_type": "code",
   "execution_count": 14,
   "metadata": {},
   "outputs": [],
   "source": [
    "@torch.no_grad()\n",
    "def estimate_loss():\n",
    "    out = {'model':[]}\n",
    "    model.eval()\n",
    "    for split in ['train', 'val']:\n",
    "        losses = torch.zeros(eval_iters)\n",
    "        for k in range(eval_iters):\n",
    "            X, Y = get_batch(split)\n",
    "            logits, loss = model(X, Y)\n",
    "            losses[k] = loss.item()\n",
    "            out['model'].append(model)\n",
    "        out[split] = losses.mean()\n",
    "    model.train()\n",
    "    return out"
   ]
  },
  {
   "cell_type": "code",
   "execution_count": 15,
   "metadata": {},
   "outputs": [],
   "source": [
    "model=GptLanguageModel(vocab_size)"
   ]
  },
  {
   "cell_type": "code",
   "execution_count": 16,
   "metadata": {},
   "outputs": [],
   "source": [
    "context=torch.zeros((1,1),dtype=torch.long,)"
   ]
  },
  {
   "cell_type": "code",
   "execution_count": 17,
   "metadata": {},
   "outputs": [
    {
     "name": "stdout",
     "output_type": "stream",
     "text": [
      "Model loaded successfully.\n"
     ]
    }
   ],
   "source": [
    "\n",
    "model_path = 'model-01.pkl'\n",
    "\n",
    "if os.path.exists(model_path):\n",
    "    # Load the model if it exists\n",
    "    with open(model_path, 'rb') as f:\n",
    "        model = pickle.load(f)\n",
    "    print('Model loaded successfully.')\n",
    "else:\n",
    "    optimizer = torch.optim.AdamW(model.parameters(), lr=learning_rate)\n",
    "\n",
    "    for iter in range(max_iters):\n",
    "      if iter % eval_iters == 0:\n",
    "        losses = estimate_loss()\n",
    "        print(f\"step: {iter}, train loss: {losses['train']:.3f}, val loss: {losses['val']:.3f}\")\n",
    "\n",
    "    # sample a batch of data\n",
    "        xb, yb = get_batch('train')\n",
    "\n",
    "    # evaluate the loss\n",
    "        logits, loss = model.forward(xb, yb)\n",
    "        optimizer.zero_grad(set_to_none=True)\n",
    "        loss.backward()\n",
    "        optimizer.step()\n",
    "\n",
    "    print(loss.item())\n",
    "\n",
    "    with open(model_path, 'wb') as f:\n",
    "        pickle.dump(model, f)\n",
    "    print('Model saved.')"
   ]
  },
  {
   "cell_type": "code",
   "execution_count": null,
   "metadata": {},
   "outputs": [],
   "source": []
  },
  {
   "cell_type": "code",
   "execution_count": 18,
   "metadata": {},
   "outputs": [
    {
     "ename": "NameError",
     "evalue": "name 'losses' is not defined",
     "output_type": "error",
     "traceback": [
      "\u001b[1;31m---------------------------------------------------------------------------\u001b[0m",
      "\u001b[1;31mNameError\u001b[0m                                 Traceback (most recent call last)",
      "\u001b[1;32md:\\Jovian data\\Deep Learning\\gpt_project\\gpt-V1.ipynb Cell 18\u001b[0m line \u001b[0;36m1\n\u001b[1;32m----> <a href='vscode-notebook-cell:/d%3A/Jovian%20data/Deep%20Learning/gpt_project/gpt-V1.ipynb#X23sZmlsZQ%3D%3D?line=0'>1</a>\u001b[0m \u001b[39mprint\u001b[39m(losses)\n",
      "\u001b[1;31mNameError\u001b[0m: name 'losses' is not defined"
     ]
    }
   ],
   "source": [
    "print(losses)"
   ]
  },
  {
   "cell_type": "code",
   "execution_count": 19,
   "metadata": {},
   "outputs": [
    {
     "name": "stdout",
     "output_type": "stream",
     "text": [
      "do you see metake up.\"\n",
      "\n",
      "Just as them oubled us alosh; so it were state of ins_ head.\n",
      "\n",
      "She which was they body amm\n"
     ]
    }
   ],
   "source": [
    "prompt = 'do you see me'\n",
    "context = torch.tensor(encode(prompt), dtype=torch.long) #,device=device)\n",
    "generated_chars = decode(model.generate(context.unsqueeze(0), max_new_tokens=100)[0].tolist())\n",
    "print(generated_chars)"
   ]
  }
 ],
 "metadata": {
  "kernelspec": {
   "display_name": "Python 3",
   "language": "python",
   "name": "python3"
  },
  "language_info": {
   "codemirror_mode": {
    "name": "ipython",
    "version": 3
   },
   "file_extension": ".py",
   "mimetype": "text/x-python",
   "name": "python",
   "nbconvert_exporter": "python",
   "pygments_lexer": "ipython3",
   "version": "3.11.6"
  },
  "orig_nbformat": 4
 },
 "nbformat": 4,
 "nbformat_minor": 2
}

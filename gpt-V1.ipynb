{
 "cells": [
  {
   "cell_type": "code",
   "execution_count": 123,
   "metadata": {},
   "outputs": [],
   "source": [
    "import torch\n",
    "import torch.nn as nn\n",
    "import torch.nn.functional as F\n",
    "import matplotlib.pyplot as plt"
   ]
  },
  {
   "cell_type": "code",
   "execution_count": 124,
   "metadata": {},
   "outputs": [],
   "source": [
    "block_size=8\n",
    "batch_size=4\n",
    "max_iter=10000\n",
    "learning_rate=3e-4\n",
    "n_embd=384\n",
    "n_layer=6\n",
    "n_head=4\n",
    "dropout=0.2"
   ]
  },
  {
   "cell_type": "code",
   "execution_count": 125,
   "metadata": {},
   "outputs": [],
   "source": [
    "with open('wizard_of_oz.txt','r',encoding='utf-8') as f:\n",
    "    text=f.read()"
   ]
  },
  {
   "cell_type": "code",
   "execution_count": 126,
   "metadata": {},
   "outputs": [
    {
     "name": "stdout",
     "output_type": "stream",
     "text": [
      " the length of char is 80\n",
      "['\\n', ' ', '!', '\"', '&', \"'\", '(', ')', '*', ',', '-', '.', '0', '1', '2', '3', '4', '5', '6', '7', '8', '9', ':', ';', '?', 'A', 'B', 'C', 'D', 'E', 'F', 'G', 'H', 'I', 'J', 'K', 'L', 'M', 'N', 'O', 'P', 'Q', 'R', 'S', 'T', 'U', 'V', 'W', 'X', 'Y', 'Z', '[', ']', '_', 'a', 'b', 'c', 'd', 'e', 'f', 'g', 'h', 'i', 'j', 'k', 'l', 'm', 'n', 'o', 'p', 'q', 'r', 's', 't', 'u', 'v', 'w', 'x', 'y', 'z']\n"
     ]
    }
   ],
   "source": [
    "char=sorted(set(text))\n",
    "print(' the length of char is {}'.format(len(char)))\n",
    "print(char)\n",
    "vocab_size=len(char)"
   ]
  },
  {
   "cell_type": "code",
   "execution_count": 127,
   "metadata": {},
   "outputs": [],
   "source": [
    "string_to_int={ch:i for i, ch in enumerate(char)}\n",
    "int_to_string={i:ch for i, ch in enumerate(char)}\n",
    "encode=lambda s:[string_to_int[c] for c in s]\n",
    "decode=lambda s:\"\".join([int_to_string[c] for c in s])"
   ]
  },
  {
   "cell_type": "code",
   "execution_count": 128,
   "metadata": {},
   "outputs": [],
   "source": [
    "data = torch.tensor(encode(text), dtype=torch.long)"
   ]
  },
  {
   "cell_type": "code",
   "execution_count": 129,
   "metadata": {},
   "outputs": [],
   "source": [
    "n=int(len(text)*0.8)\n",
    "train_data=data[:n]\n",
    "val_data=data[n:]"
   ]
  },
  {
   "cell_type": "code",
   "execution_count": 130,
   "metadata": {},
   "outputs": [],
   "source": [
    "#Get batch function\n",
    "def get_batch(split):\n",
    "    data=train_data if split=='train' else val_data\n",
    "    ix=torch.randint(len(data)-block_size,(batch_size,))\n",
    "    #print(ix)\n",
    "    x=torch.stack([data[i:i+block_size] for i in ix])\n",
    "    y=torch.stack([data[i+1:i+block_size+1] for i in ix])\n",
    "    return x, y\n"
   ]
  },
  {
   "cell_type": "code",
   "execution_count": 131,
   "metadata": {},
   "outputs": [],
   "source": [
    "class Head(nn.Module):\n",
    "    def __init__(self,head_size):\n",
    "        super().__init__()\n",
    "        self.key=nn.Linear(n_embd,head_size,bias=False)\n",
    "        self.query=nn.Linear(n_embd,head_size,bias=False)\n",
    "        self.value=nn.Linear(n_embd,head_size,bias=False)\n",
    "        self.register_buffer('tril',torch.tril(torch.ones(block_size,block_size)))\n",
    "\n",
    "        self.dropout=nn.Dropout(droput)\n",
    "    def forward(self,x):\n",
    "        B,T,C=x.shape\n",
    "        k=self.key(x)\n",
    "        q=self.query(x)\n",
    "\n",
    "        wei=q@k.transpose(-2,1)*k.shape[-1]**-0.5\n",
    "        wei=wei.masked_fill(self.tril[:T,:T]==0,float('-inf'))\n",
    "        wei=F.softmax(wei,dim=-1)\n",
    "        wei.self.dropout(wei)\n",
    "        v=self.values(x)\n",
    "        out=wei@v\n",
    "        return out"
   ]
  },
  {
   "cell_type": "code",
   "execution_count": 132,
   "metadata": {},
   "outputs": [],
   "source": [
    "class FeedForward(nn.Module):\n",
    "    def __init__(self,n_embd):\n",
    "        super().__init__() #This line calls the constructor of the parent class (nn.Module) to initialize the module.\n",
    "        self.net=nn.Sequential(\n",
    "            nn.Linear(n_embd,4*n_embd),\n",
    "            nn.ReLU(),\n",
    "            nn.Linear(4*n_embd,n_embd),\n",
    "            nn.Dropout(dropout)\n",
    "        )\n",
    "    def forword(self,x):\n",
    "        return self.net(x)"
   ]
  },
  {
   "cell_type": "code",
   "execution_count": 133,
   "metadata": {},
   "outputs": [],
   "source": [
    "class MultiheadAttention(nn.Module):\n",
    "    def __init__(self,num_heads,head_size):\n",
    "        super().__init__() #This line calls the constructor of the parent class (nn.Module) to initialize the module.\n",
    "        self.heads=nn.ModuleList([Head(head_size) for _ in range(num_heads)])\n",
    "        self.proj=nn.Linear(head_size*num_heads,n_embd)\n",
    "        self.dropout=nn.Dropout(droput)\n",
    "\n",
    "    def forward(self,x):\n",
    "        out=torch.cat([h(x) for h in self.heads])  \n",
    "        out=self.dropout(self.proj(out))\n",
    "        return out  "
   ]
  },
  {
   "cell_type": "code",
   "execution_count": 134,
   "metadata": {},
   "outputs": [],
   "source": [
    "class Block(nn.Module):\n",
    "    '''Transformer BLock'''\n",
    "    def __init__(self,n_embd,n_head):\n",
    "        super().__init__() #This line calls the constructor of the parent class (nn.Module) to initialize the module.\n",
    "        head_size=n_embd//n_head\n",
    "        self.sa=MultiheadAttention(n_head,head_size)   #self attention\n",
    "        self.ffwd=FeedForward(n_embd)   \n",
    "        self.ln1=nn.LayerNorm(n_embd)\n",
    "        self.ln2=nn.LayerNorm(n_embd)\n",
    "    \n",
    "    def forward(self,x):\n",
    "        y=self.sa(x)             #self attention\n",
    "        x=self.ln1(x+y)          #Norm 1\n",
    "        y=self.ffwd(x)           #feed forward\n",
    "        x=self.ln2(x+y)          #Norm 2\n",
    "        return x"
   ]
  },
  {
   "cell_type": "code",
   "execution_count": 135,
   "metadata": {},
   "outputs": [],
   "source": [
    "class GptLanguageModel(nn.Module):\n",
    "    def __init__(self,vocab_size):\n",
    "        super().__init__() #This line calls the constructor of the parent class (nn.Module) to initialize the module.\n",
    "        self.token_embedding_table=nn.Embedding(vocab_size,n_embd)\n",
    "        self.position_embedding_table=nn.Embedding(block_size,n_embd)\n",
    "        self.block=nn.Sequential(*[Block(n_embd,n_head=n_head) for _ in range(n_layer)])\n",
    "        self.ln_f=nn.LayerNorm(n_embd) #final layer norm\n",
    "        self.lm_head=nn.Linear(n_embd,vocab_size)\n",
    "\n",
    "       # self.apply(self.__init__weights)\n",
    "    \n",
    "    def __init__weights(self,module):\n",
    "        if isinstance(module,nn.Linear):\n",
    "            torch.nn.init.normal_(module.weight,mean=0.0,std=0.0)\n",
    "        if module.bias is not None:\n",
    "            torch.nn.init.zeros(module.bias)\n",
    "        elif isinstance(module,nn.Embedding):\n",
    "            torch.nn.init.normal_(module.weight,mean=0.0,std=0.0)\n",
    "    \n",
    "    def forward(self,index,target=None):\n",
    "       \n",
    "       token_emb=self.token_embedding_table(idx)\n",
    "       pos_emb=self.position_embedding_table(torch.arrange(T)) \n",
    "       x=token_emb+pos_emb\n",
    "       x=self.block(x)\n",
    "       x=self.ln_f(x)\n",
    "       logit=self.lm_head(x)\n",
    "\n",
    "       if target==None:\n",
    "            loss=None\n",
    "       else:\n",
    "         #geting shape of logits\n",
    "         B, T, C=logit.shape\n",
    "         logit=logit.view(B*T,C)\n",
    "         target=target.view(B*T)\n",
    "         loss=F.cross_entropy(logit,target)\n",
    "        \n",
    "       return logit, loss\n",
    "    \n",
    "    def generate(self,index,max_new_tokens):\n",
    "        #index is (B,T) array of indices in the current content\n",
    "        for _ in range(max_new_tokens):\n",
    "            #get prediction\n",
    "            logit, loss=self.forward(index)\n",
    "            #focus only on last step\n",
    "            logit=logit[:,-1,:] #becomes (B,C)\n",
    "            probs=F.softmax(logit,dim=-1) #(B,C)\n",
    "            index_next=torch.multinomial(probs,num_samples=1)\n",
    "            #append sampled index to the running sequence\n",
    "            index=torch.cat((index,index_next),dim=1)\n",
    "        return index\n"
   ]
  },
  {
   "cell_type": "code",
   "execution_count": 136,
   "metadata": {},
   "outputs": [],
   "source": [
    "model=GptLanguageModel(vocab_size)"
   ]
  },
  {
   "cell_type": "code",
   "execution_count": 137,
   "metadata": {},
   "outputs": [
    {
     "name": "stdout",
     "output_type": "stream",
     "text": [
      "tensor([[[0.]]])\n"
     ]
    }
   ],
   "source": [
    "print(torch.empty(1,1,1))"
   ]
  },
  {
   "cell_type": "code",
   "execution_count": 138,
   "metadata": {},
   "outputs": [],
   "source": [
    "context=torch.zeros((1,1),dtype=torch.long,)"
   ]
  },
  {
   "cell_type": "code",
   "execution_count": 139,
   "metadata": {},
   "outputs": [
    {
     "ename": "NameError",
     "evalue": "name 'idx' is not defined",
     "output_type": "error",
     "traceback": [
      "\u001b[1;31m---------------------------------------------------------------------------\u001b[0m",
      "\u001b[1;31mNameError\u001b[0m                                 Traceback (most recent call last)",
      "\u001b[1;32md:\\Jovian data\\Deep Learning\\gpt_project\\gpt-V1.ipynb Cell 17\u001b[0m line \u001b[0;36m9\n\u001b[0;32m      <a href='vscode-notebook-cell:/d%3A/Jovian%20data/Deep%20Learning/gpt_project/gpt-V1.ipynb#X22sZmlsZQ%3D%3D?line=4'>5</a>\u001b[0m xb, yb\u001b[39m=\u001b[39mget_batch(\u001b[39m'\u001b[39m\u001b[39mtrain\u001b[39m\u001b[39m'\u001b[39m)\n\u001b[0;32m      <a href='vscode-notebook-cell:/d%3A/Jovian%20data/Deep%20Learning/gpt_project/gpt-V1.ipynb#X22sZmlsZQ%3D%3D?line=6'>7</a>\u001b[0m \u001b[39m#Evluate loss\u001b[39;00m\n\u001b[1;32m----> <a href='vscode-notebook-cell:/d%3A/Jovian%20data/Deep%20Learning/gpt_project/gpt-V1.ipynb#X22sZmlsZQ%3D%3D?line=8'>9</a>\u001b[0m logit, loss\u001b[39m=\u001b[39mmodel\u001b[39m.\u001b[39;49mforward(xb,yb)\n\u001b[0;32m     <a href='vscode-notebook-cell:/d%3A/Jovian%20data/Deep%20Learning/gpt_project/gpt-V1.ipynb#X22sZmlsZQ%3D%3D?line=9'>10</a>\u001b[0m losst\u001b[39m.\u001b[39mappend(loss)\n\u001b[0;32m     <a href='vscode-notebook-cell:/d%3A/Jovian%20data/Deep%20Learning/gpt_project/gpt-V1.ipynb#X22sZmlsZQ%3D%3D?line=10'>11</a>\u001b[0m optimizer\u001b[39m.\u001b[39mzero_grad(set_to_none\u001b[39m=\u001b[39m\u001b[39mTrue\u001b[39;00m)\n",
      "\u001b[1;32md:\\Jovian data\\Deep Learning\\gpt_project\\gpt-V1.ipynb Cell 17\u001b[0m line \u001b[0;36m2\n\u001b[0;32m     <a href='vscode-notebook-cell:/d%3A/Jovian%20data/Deep%20Learning/gpt_project/gpt-V1.ipynb#X22sZmlsZQ%3D%3D?line=19'>20</a>\u001b[0m \u001b[39mdef\u001b[39;00m \u001b[39mforward\u001b[39m(\u001b[39mself\u001b[39m,index,target\u001b[39m=\u001b[39m\u001b[39mNone\u001b[39;00m):\n\u001b[1;32m---> <a href='vscode-notebook-cell:/d%3A/Jovian%20data/Deep%20Learning/gpt_project/gpt-V1.ipynb#X22sZmlsZQ%3D%3D?line=21'>22</a>\u001b[0m    token_emb\u001b[39m=\u001b[39m\u001b[39mself\u001b[39m\u001b[39m.\u001b[39mtoken_embedding_table(idx)\n\u001b[0;32m     <a href='vscode-notebook-cell:/d%3A/Jovian%20data/Deep%20Learning/gpt_project/gpt-V1.ipynb#X22sZmlsZQ%3D%3D?line=22'>23</a>\u001b[0m    pos_emb\u001b[39m=\u001b[39m\u001b[39mself\u001b[39m\u001b[39m.\u001b[39mposition_embedding_table(torch\u001b[39m.\u001b[39marrange(T)) \n\u001b[0;32m     <a href='vscode-notebook-cell:/d%3A/Jovian%20data/Deep%20Learning/gpt_project/gpt-V1.ipynb#X22sZmlsZQ%3D%3D?line=23'>24</a>\u001b[0m    x\u001b[39m=\u001b[39mtoken_emb\u001b[39m+\u001b[39mpos_emb\n",
      "\u001b[1;31mNameError\u001b[0m: name 'idx' is not defined"
     ]
    }
   ],
   "source": [
    "\n",
    "optimizer=torch.optim.AdamW(model.parameters(),lr=learning_rate)\n",
    "losst=[]\n",
    "\n",
    "for iter in range(max_iter*2):\n",
    "    xb, yb=get_batch('train')\n",
    "\n",
    "    #Evluate loss\n",
    "\n",
    "    logit, loss=model.forward(xb,yb)\n",
    "    losst.append(loss)\n",
    "    optimizer.zero_grad(set_to_none=True)\n",
    "    loss.backward()\n",
    "    optimizer.step()\n",
    "print(loss)"
   ]
  }
 ],
 "metadata": {
  "kernelspec": {
   "display_name": "Python 3",
   "language": "python",
   "name": "python3"
  },
  "language_info": {
   "codemirror_mode": {
    "name": "ipython",
    "version": 3
   },
   "file_extension": ".py",
   "mimetype": "text/x-python",
   "name": "python",
   "nbconvert_exporter": "python",
   "pygments_lexer": "ipython3",
   "version": "3.11.6"
  },
  "orig_nbformat": 4
 },
 "nbformat": 4,
 "nbformat_minor": 2
}

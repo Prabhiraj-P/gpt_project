{
 "cells": [
  {
   "cell_type": "code",
   "execution_count": 312,
   "metadata": {},
   "outputs": [],
   "source": [
    "import torch\n",
    "import torch.nn as nn\n",
    "import torch.nn.functional as F"
   ]
  },
  {
   "cell_type": "code",
   "execution_count": 313,
   "metadata": {},
   "outputs": [],
   "source": [
    "block_size=8\n",
    "batch_size=4\n",
    "max_iter=10000\n",
    "learning_rate=3e-4"
   ]
  },
  {
   "cell_type": "code",
   "execution_count": 314,
   "metadata": {},
   "outputs": [
    {
     "name": "stdout",
     "output_type": "stream",
     "text": [
      "cpu\n"
     ]
    }
   ],
   "source": [
    "device='cuda' if torch.cuda.is_available() else 'cpu'\n",
    "print(device)"
   ]
  },
  {
   "cell_type": "code",
   "execution_count": 315,
   "metadata": {},
   "outputs": [],
   "source": [
    "with open('wizard_of_oz.txt','r',encoding='utf-8') as f:\n",
    "    text=f.read()"
   ]
  },
  {
   "cell_type": "code",
   "execution_count": 316,
   "metadata": {},
   "outputs": [
    {
     "name": "stdout",
     "output_type": "stream",
     "text": [
      " the length of char is 80\n",
      "['\\n', ' ', '!', '\"', '&', \"'\", '(', ')', '*', ',', '-', '.', '0', '1', '2', '3', '4', '5', '6', '7', '8', '9', ':', ';', '?', 'A', 'B', 'C', 'D', 'E', 'F', 'G', 'H', 'I', 'J', 'K', 'L', 'M', 'N', 'O', 'P', 'Q', 'R', 'S', 'T', 'U', 'V', 'W', 'X', 'Y', 'Z', '[', ']', '_', 'a', 'b', 'c', 'd', 'e', 'f', 'g', 'h', 'i', 'j', 'k', 'l', 'm', 'n', 'o', 'p', 'q', 'r', 's', 't', 'u', 'v', 'w', 'x', 'y', 'z']\n"
     ]
    }
   ],
   "source": [
    "char=sorted(set(text))\n",
    "print(' the length of char is {}'.format(len(char)))\n",
    "print(char)\n",
    "vocab_size=len(char)"
   ]
  },
  {
   "cell_type": "code",
   "execution_count": 317,
   "metadata": {},
   "outputs": [],
   "source": [
    "string_to_int={ch:i for i, ch in enumerate(char)}\n",
    "int_to_string={i:ch for i, ch in enumerate(char)}\n",
    "encode=lambda s:[string_to_int[c] for c in s]\n",
    "decode=lambda s:\"\".join([int_to_string[c] for c in s])"
   ]
  },
  {
   "cell_type": "code",
   "execution_count": 318,
   "metadata": {},
   "outputs": [],
   "source": [
    "encoded_text=encode(text)"
   ]
  },
  {
   "cell_type": "code",
   "execution_count": 319,
   "metadata": {},
   "outputs": [],
   "source": [
    "data=torch.Tensor(encoded_text)# dtype=torch.long) #dtype=torch.long"
   ]
  },
  {
   "cell_type": "code",
   "execution_count": 320,
   "metadata": {},
   "outputs": [
    {
     "data": {
      "text/plain": [
       "tensor([ 1.,  1., 28., 39., 42., 39., 44., 32., 49.,  1.])"
      ]
     },
     "execution_count": 320,
     "metadata": {},
     "output_type": "execute_result"
    }
   ],
   "source": [
    "data[:10]"
   ]
  },
  {
   "cell_type": "markdown",
   "metadata": {},
   "source": [
    "# splitting data for training and validating"
   ]
  },
  {
   "cell_type": "code",
   "execution_count": 321,
   "metadata": {},
   "outputs": [],
   "source": [
    "n=int(len(text)*0.8)\n",
    "train_data=data[:n]\n",
    "val_data=data[n:]"
   ]
  },
  {
   "cell_type": "code",
   "execution_count": 322,
   "metadata": {},
   "outputs": [
    {
     "name": "stdout",
     "output_type": "stream",
     "text": [
      "when input is  tensor([1.]) target is  tensor(1.)\n",
      "when input is  tensor([1., 1.]) target is  tensor(28.)\n",
      "when input is  tensor([ 1.,  1., 28.]) target is  tensor(39.)\n",
      "when input is  tensor([ 1.,  1., 28., 39.]) target is  tensor(42.)\n",
      "when input is  tensor([ 1.,  1., 28., 39., 42.]) target is  tensor(39.)\n",
      "when input is  tensor([ 1.,  1., 28., 39., 42., 39.]) target is  tensor(44.)\n",
      "when input is  tensor([ 1.,  1., 28., 39., 42., 39., 44.]) target is  tensor(32.)\n",
      "when input is  tensor([ 1.,  1., 28., 39., 42., 39., 44., 32.]) target is  tensor(49.)\n"
     ]
    }
   ],
   "source": [
    "\n",
    "x=train_data[:block_size]\n",
    "y=train_data[1:block_size+1]\n",
    "for t in range(block_size):\n",
    "    context=x[:t+1]\n",
    "    target=y[t]\n",
    "    print(\"when input is \",context,'target is ',target)"
   ]
  },
  {
   "cell_type": "code",
   "execution_count": 323,
   "metadata": {},
   "outputs": [
    {
     "name": "stdout",
     "output_type": "stream",
     "text": [
      "tensor([0.0117, 0.0317, 0.0861, 0.2341, 0.6364])\n"
     ]
    }
   ],
   "source": [
    "#softmax\n",
    "tensor1=torch.Tensor([1,2,3,4,5])\n",
    "softmax_tensor=F.softmax(tensor1,dim=0)\n",
    "\n",
    "print(softmax_tensor)"
   ]
  },
  {
   "cell_type": "code",
   "execution_count": 324,
   "metadata": {},
   "outputs": [
    {
     "name": "stdout",
     "output_type": "stream",
     "text": [
      "torch.Size([4, 100])\n"
     ]
    }
   ],
   "source": [
    "#initializing an embedding layer\n",
    "vocal_size=1000\n",
    "embedding_layer=100\n",
    "#Creating embedding layer\n",
    "embedding=nn.Embedding(vocal_size,embedding_layer)\n",
    "#initialising input\n",
    "input_indice=torch.LongTensor([1,5,3,2])\n",
    "#Applying the embedding layer\n",
    "embedding_output=embedding(input_indice)\n",
    "print(embedding_output.shape)"
   ]
  },
  {
   "cell_type": "code",
   "execution_count": 325,
   "metadata": {},
   "outputs": [],
   "source": [
    "#Get batch function\n",
    "def get_batch(split):\n",
    "    data=train_data if split=='train' else val_data\n",
    "    ix=torch.randint(len(data)-block_size,(batch_size,))\n",
    "    print(ix)\n",
    "    x=torch.stack([data[i:i+block_size] for i in ix])\n",
    "    y=torch.stack([data[i+1:i+block_size+1] for i in ix])\n",
    "    return x, y\n"
   ]
  },
  {
   "cell_type": "code",
   "execution_count": 326,
   "metadata": {},
   "outputs": [
    {
     "name": "stdout",
     "output_type": "stream",
     "text": [
      "tensor([ 3607,  7721, 81173, 22078])\n",
      "tensor([[ 1., 69., 54., 73., 62., 58., 67., 73.],\n",
      "        [ 9.,  1., 59., 68., 71.,  1., 62., 73.],\n",
      "        [68., 72., 62., 73., 58.,  1., 73., 61.],\n",
      "        [73., 61., 58., 66.,  1., 61., 54., 57.]])\n",
      "tensor([[69., 54., 73., 62., 58., 67., 73.,  9.],\n",
      "        [ 1., 59., 68., 71.,  1., 62., 73.,  1.],\n",
      "        [72., 62., 73., 58.,  1., 73., 61., 58.],\n",
      "        [61., 58., 66.,  1., 61., 54., 57.,  1.]])\n"
     ]
    }
   ],
   "source": [
    "x, y=get_batch('train')\n",
    "print(x)\n",
    "print(y)"
   ]
  },
  {
   "cell_type": "markdown",
   "metadata": {},
   "source": [
    "# Class"
   ]
  },
  {
   "cell_type": "code",
   "execution_count": 327,
   "metadata": {},
   "outputs": [],
   "source": [
    "class BigramLanguageModel(nn.Module):\n",
    "    def __init__(self, vocab_size):\n",
    "        super().__init__()\n",
    "        self.token_embedding_table = nn.Embedding(vocab_size, vocab_size)\n",
    "        \n",
    "    def forward(self, index, targets=None):\n",
    "        logits = self.token_embedding_table(index)       \n",
    "        if targets is None:\n",
    "            loss = None\n",
    "        else:\n",
    "            B, T, C = logits.shape\n",
    "            logits = logits.view(B*T, C)\n",
    "            targets = targets.view(B*T)\n",
    "            loss = F.cross_entropy(logits, targets)\n",
    "        \n",
    "        return logits, loss\n",
    "    ##nnnnnnnnnnnnnnnnnn\n",
    "    def generate(self, index, max_new_tokens):\n",
    "        # index is (B, T) array of indices in the current context\n",
    "        for _ in range(max_new_tokens):\n",
    "            # get the predictions\n",
    "            logits, loss = self.forward(index)\n",
    "            # focus only on the last time step\n",
    "            logits = logits[:, -1, :] # becomes (B, C)\n",
    "            # apply softmax to get probabilities\n",
    "            probs = F.softmax(logits, dim=-1) # (B, C)\n",
    "            # sample from the distribution\n",
    "            index_next = torch.multinomial(probs, num_samples=1) # (B, 1)\n",
    "            # append sampled index to the running sequence\n",
    "            index = torch.cat((index, index_next), dim=1) # (B, T+1)\n",
    "        return index"
   ]
  },
  {
   "cell_type": "code",
   "execution_count": 328,
   "metadata": {},
   "outputs": [],
   "source": [
    "class BigramLanguageModel(nn.Module):\n",
    "    def __init__(self,vocab_size):\n",
    "        super().__init__()\n",
    "        self.token_embedding_table=nn.Embedding(vocab_size,vocab_size)\n",
    "    \n",
    "    def forward(self,index,target=None):\n",
    "        logit=self.token_embedding_table(index)\n",
    "        if target==None:\n",
    "            loss=None\n",
    "        else:\n",
    "         #geting shape of logits\n",
    "         B, T, C=logit.shape\n",
    "         logit=logit.view(B*T,C)\n",
    "         target=target.view(B*T)\n",
    "         loss=nn.cross_entropy(logit,target)\n",
    "        \n",
    "        return logit, loss\n",
    "    \n",
    "    def generate(self,index,max_new_tokens):\n",
    "        #index is (B,T) array of indices in the current content\n",
    "        for _ in range(max_new_tokens):\n",
    "            #get prediction\n",
    "            logit, loss=self.forward(index)\n",
    "            #focus only on last step\n",
    "            logit=logit[:,-1,:] #becomes (B,C)\n",
    "            probs=F.softmax(logit,dim=-1) #(B,C)\n",
    "            index_next=torch.multinomial(probs,num_samples=1)\n",
    "            #append sampled index to the running sequence\n",
    "            index=torch.cat((index,index_next),dim=1)\n",
    "        return index\n"
   ]
  },
  {
   "cell_type": "code",
   "execution_count": 329,
   "metadata": {},
   "outputs": [],
   "source": [
    "model=BigramLanguageModel(vocal_size)"
   ]
  },
  {
   "cell_type": "code",
   "execution_count": 330,
   "metadata": {},
   "outputs": [],
   "source": [
    "context=torch.zeros((1,1),dtype=torch.long,)"
   ]
  },
  {
   "cell_type": "code",
   "execution_count": 331,
   "metadata": {},
   "outputs": [
    {
     "data": {
      "text/plain": [
       "501"
      ]
     },
     "execution_count": 331,
     "metadata": {},
     "output_type": "execute_result"
    }
   ],
   "source": [
    "len(model.generate(\n",
    "    context,\n",
    "    max_new_tokens=500)[0].tolist())"
   ]
  },
  {
   "cell_type": "code",
   "execution_count": 332,
   "metadata": {},
   "outputs": [
    {
     "ename": "KeyError",
     "evalue": "527",
     "output_type": "error",
     "traceback": [
      "\u001b[1;31m---------------------------------------------------------------------------\u001b[0m",
      "\u001b[1;31mKeyError\u001b[0m                                  Traceback (most recent call last)",
      "\u001b[1;32md:\\Jovian data\\Deep Learning\\gpt_project\\bigram.ipynb Cell 23\u001b[0m line \u001b[0;36m1\n\u001b[1;32m----> <a href='vscode-notebook-cell:/d%3A/Jovian%20data/Deep%20Learning/gpt_project/bigram.ipynb#X31sZmlsZQ%3D%3D?line=0'>1</a>\u001b[0m generated_char\u001b[39m=\u001b[39mdecode(model\u001b[39m.\u001b[39;49mgenerate(\n\u001b[0;32m      <a href='vscode-notebook-cell:/d%3A/Jovian%20data/Deep%20Learning/gpt_project/bigram.ipynb#X31sZmlsZQ%3D%3D?line=1'>2</a>\u001b[0m     context,\n\u001b[0;32m      <a href='vscode-notebook-cell:/d%3A/Jovian%20data/Deep%20Learning/gpt_project/bigram.ipynb#X31sZmlsZQ%3D%3D?line=2'>3</a>\u001b[0m     max_new_tokens\u001b[39m=\u001b[39;49m\u001b[39m500\u001b[39;49m)[\u001b[39m0\u001b[39;49m]\u001b[39m.\u001b[39;49mtolist()\n\u001b[0;32m      <a href='vscode-notebook-cell:/d%3A/Jovian%20data/Deep%20Learning/gpt_project/bigram.ipynb#X31sZmlsZQ%3D%3D?line=3'>4</a>\u001b[0m )\n\u001b[0;32m      <a href='vscode-notebook-cell:/d%3A/Jovian%20data/Deep%20Learning/gpt_project/bigram.ipynb#X31sZmlsZQ%3D%3D?line=4'>5</a>\u001b[0m \u001b[39mprint\u001b[39m(generated_char)\n",
      "\u001b[1;32md:\\Jovian data\\Deep Learning\\gpt_project\\bigram.ipynb Cell 23\u001b[0m line \u001b[0;36m4\n\u001b[0;32m      <a href='vscode-notebook-cell:/d%3A/Jovian%20data/Deep%20Learning/gpt_project/bigram.ipynb#X31sZmlsZQ%3D%3D?line=1'>2</a>\u001b[0m int_to_string\u001b[39m=\u001b[39m{i:ch \u001b[39mfor\u001b[39;00m i, ch \u001b[39min\u001b[39;00m \u001b[39menumerate\u001b[39m(char)}\n\u001b[0;32m      <a href='vscode-notebook-cell:/d%3A/Jovian%20data/Deep%20Learning/gpt_project/bigram.ipynb#X31sZmlsZQ%3D%3D?line=2'>3</a>\u001b[0m encode\u001b[39m=\u001b[39m\u001b[39mlambda\u001b[39;00m s:[string_to_int[c] \u001b[39mfor\u001b[39;00m c \u001b[39min\u001b[39;00m s]\n\u001b[1;32m----> <a href='vscode-notebook-cell:/d%3A/Jovian%20data/Deep%20Learning/gpt_project/bigram.ipynb#X31sZmlsZQ%3D%3D?line=3'>4</a>\u001b[0m decode\u001b[39m=\u001b[39m\u001b[39mlambda\u001b[39;00m s:\u001b[39m\"\u001b[39m\u001b[39m\"\u001b[39m\u001b[39m.\u001b[39mjoin([int_to_string[c] \u001b[39mfor\u001b[39;49;00m c \u001b[39min\u001b[39;49;00m s])\n",
      "\u001b[1;32md:\\Jovian data\\Deep Learning\\gpt_project\\bigram.ipynb Cell 23\u001b[0m line \u001b[0;36m4\n\u001b[0;32m      <a href='vscode-notebook-cell:/d%3A/Jovian%20data/Deep%20Learning/gpt_project/bigram.ipynb#X31sZmlsZQ%3D%3D?line=1'>2</a>\u001b[0m int_to_string\u001b[39m=\u001b[39m{i:ch \u001b[39mfor\u001b[39;00m i, ch \u001b[39min\u001b[39;00m \u001b[39menumerate\u001b[39m(char)}\n\u001b[0;32m      <a href='vscode-notebook-cell:/d%3A/Jovian%20data/Deep%20Learning/gpt_project/bigram.ipynb#X31sZmlsZQ%3D%3D?line=2'>3</a>\u001b[0m encode\u001b[39m=\u001b[39m\u001b[39mlambda\u001b[39;00m s:[string_to_int[c] \u001b[39mfor\u001b[39;00m c \u001b[39min\u001b[39;00m s]\n\u001b[1;32m----> <a href='vscode-notebook-cell:/d%3A/Jovian%20data/Deep%20Learning/gpt_project/bigram.ipynb#X31sZmlsZQ%3D%3D?line=3'>4</a>\u001b[0m decode\u001b[39m=\u001b[39m\u001b[39mlambda\u001b[39;00m s:\u001b[39m\"\u001b[39m\u001b[39m\"\u001b[39m\u001b[39m.\u001b[39mjoin([int_to_string[c] \u001b[39mfor\u001b[39;00m c \u001b[39min\u001b[39;00m s])\n",
      "\u001b[1;31mKeyError\u001b[0m: 527"
     ]
    }
   ],
   "source": [
    "generated_char=decode(model.generate(\n",
    "    context,\n",
    "    max_new_tokens=500)[0].tolist()\n",
    ")\n",
    "print(generated_char)"
   ]
  },
  {
   "cell_type": "markdown",
   "metadata": {},
   "source": [
    "# Optimiser"
   ]
  },
  {
   "cell_type": "code",
   "execution_count": null,
   "metadata": {},
   "outputs": [
    {
     "name": "stdout",
     "output_type": "stream",
     "text": [
      "tensor([ 99694,  24212, 103150, 122213])\n"
     ]
    },
    {
     "ename": "RuntimeError",
     "evalue": "Expected tensor for argument #1 'indices' to have one of the following scalar types: Long, Int; but got torch.FloatTensor instead (while checking arguments for embedding)",
     "output_type": "error",
     "traceback": [
      "\u001b[1;31m---------------------------------------------------------------------------\u001b[0m",
      "\u001b[1;31mRuntimeError\u001b[0m                              Traceback (most recent call last)",
      "\u001b[1;32md:\\Jovian data\\Deep Learning\\gpt_project\\bigram.ipynb Cell 24\u001b[0m line \u001b[0;36m7\n\u001b[0;32m      <a href='vscode-notebook-cell:/d%3A/Jovian%20data/Deep%20Learning/gpt_project/bigram.ipynb#X36sZmlsZQ%3D%3D?line=2'>3</a>\u001b[0m xb, yb\u001b[39m=\u001b[39mget_batch(\u001b[39m'\u001b[39m\u001b[39mtrain\u001b[39m\u001b[39m'\u001b[39m)\n\u001b[0;32m      <a href='vscode-notebook-cell:/d%3A/Jovian%20data/Deep%20Learning/gpt_project/bigram.ipynb#X36sZmlsZQ%3D%3D?line=4'>5</a>\u001b[0m \u001b[39m#Evluate loss\u001b[39;00m\n\u001b[1;32m----> <a href='vscode-notebook-cell:/d%3A/Jovian%20data/Deep%20Learning/gpt_project/bigram.ipynb#X36sZmlsZQ%3D%3D?line=6'>7</a>\u001b[0m logit, loss\u001b[39m=\u001b[39mmodel\u001b[39m.\u001b[39;49mforward(xb,yb)\n\u001b[0;32m      <a href='vscode-notebook-cell:/d%3A/Jovian%20data/Deep%20Learning/gpt_project/bigram.ipynb#X36sZmlsZQ%3D%3D?line=7'>8</a>\u001b[0m optimizer\u001b[39m.\u001b[39mzerograd(set_to_none\u001b[39m=\u001b[39m\u001b[39mTrue\u001b[39;00m)\n\u001b[0;32m      <a href='vscode-notebook-cell:/d%3A/Jovian%20data/Deep%20Learning/gpt_project/bigram.ipynb#X36sZmlsZQ%3D%3D?line=8'>9</a>\u001b[0m loss\u001b[39m.\u001b[39mbackward()\n",
      "\u001b[1;32md:\\Jovian data\\Deep Learning\\gpt_project\\bigram.ipynb Cell 24\u001b[0m line \u001b[0;36m7\n\u001b[0;32m      <a href='vscode-notebook-cell:/d%3A/Jovian%20data/Deep%20Learning/gpt_project/bigram.ipynb#X36sZmlsZQ%3D%3D?line=5'>6</a>\u001b[0m \u001b[39mdef\u001b[39;00m \u001b[39mforward\u001b[39m(\u001b[39mself\u001b[39m,index,target\u001b[39m=\u001b[39m\u001b[39mNone\u001b[39;00m):\n\u001b[1;32m----> <a href='vscode-notebook-cell:/d%3A/Jovian%20data/Deep%20Learning/gpt_project/bigram.ipynb#X36sZmlsZQ%3D%3D?line=6'>7</a>\u001b[0m     logit\u001b[39m=\u001b[39m\u001b[39mself\u001b[39;49m\u001b[39m.\u001b[39;49mtoken_embedding_table(index)\n\u001b[0;32m      <a href='vscode-notebook-cell:/d%3A/Jovian%20data/Deep%20Learning/gpt_project/bigram.ipynb#X36sZmlsZQ%3D%3D?line=7'>8</a>\u001b[0m     \u001b[39mif\u001b[39;00m target\u001b[39m==\u001b[39m\u001b[39mNone\u001b[39;00m:\n\u001b[0;32m      <a href='vscode-notebook-cell:/d%3A/Jovian%20data/Deep%20Learning/gpt_project/bigram.ipynb#X36sZmlsZQ%3D%3D?line=8'>9</a>\u001b[0m         loss\u001b[39m=\u001b[39m\u001b[39mNone\u001b[39;00m\n",
      "File \u001b[1;32m~\\AppData\\Local\\Packages\\PythonSoftwareFoundation.Python.3.11_qbz5n2kfra8p0\\LocalCache\\local-packages\\Python311\\site-packages\\torch\\nn\\modules\\module.py:1501\u001b[0m, in \u001b[0;36mModule._call_impl\u001b[1;34m(self, *args, **kwargs)\u001b[0m\n\u001b[0;32m   1496\u001b[0m \u001b[39m# If we don't have any hooks, we want to skip the rest of the logic in\u001b[39;00m\n\u001b[0;32m   1497\u001b[0m \u001b[39m# this function, and just call forward.\u001b[39;00m\n\u001b[0;32m   1498\u001b[0m \u001b[39mif\u001b[39;00m \u001b[39mnot\u001b[39;00m (\u001b[39mself\u001b[39m\u001b[39m.\u001b[39m_backward_hooks \u001b[39mor\u001b[39;00m \u001b[39mself\u001b[39m\u001b[39m.\u001b[39m_backward_pre_hooks \u001b[39mor\u001b[39;00m \u001b[39mself\u001b[39m\u001b[39m.\u001b[39m_forward_hooks \u001b[39mor\u001b[39;00m \u001b[39mself\u001b[39m\u001b[39m.\u001b[39m_forward_pre_hooks\n\u001b[0;32m   1499\u001b[0m         \u001b[39mor\u001b[39;00m _global_backward_pre_hooks \u001b[39mor\u001b[39;00m _global_backward_hooks\n\u001b[0;32m   1500\u001b[0m         \u001b[39mor\u001b[39;00m _global_forward_hooks \u001b[39mor\u001b[39;00m _global_forward_pre_hooks):\n\u001b[1;32m-> 1501\u001b[0m     \u001b[39mreturn\u001b[39;00m forward_call(\u001b[39m*\u001b[39;49margs, \u001b[39m*\u001b[39;49m\u001b[39m*\u001b[39;49mkwargs)\n\u001b[0;32m   1502\u001b[0m \u001b[39m# Do not call functions when jit is used\u001b[39;00m\n\u001b[0;32m   1503\u001b[0m full_backward_hooks, non_full_backward_hooks \u001b[39m=\u001b[39m [], []\n",
      "File \u001b[1;32m~\\AppData\\Local\\Packages\\PythonSoftwareFoundation.Python.3.11_qbz5n2kfra8p0\\LocalCache\\local-packages\\Python311\\site-packages\\torch\\nn\\modules\\sparse.py:162\u001b[0m, in \u001b[0;36mEmbedding.forward\u001b[1;34m(self, input)\u001b[0m\n\u001b[0;32m    161\u001b[0m \u001b[39mdef\u001b[39;00m \u001b[39mforward\u001b[39m(\u001b[39mself\u001b[39m, \u001b[39minput\u001b[39m: Tensor) \u001b[39m-\u001b[39m\u001b[39m>\u001b[39m Tensor:\n\u001b[1;32m--> 162\u001b[0m     \u001b[39mreturn\u001b[39;00m F\u001b[39m.\u001b[39;49membedding(\n\u001b[0;32m    163\u001b[0m         \u001b[39minput\u001b[39;49m, \u001b[39mself\u001b[39;49m\u001b[39m.\u001b[39;49mweight, \u001b[39mself\u001b[39;49m\u001b[39m.\u001b[39;49mpadding_idx, \u001b[39mself\u001b[39;49m\u001b[39m.\u001b[39;49mmax_norm,\n\u001b[0;32m    164\u001b[0m         \u001b[39mself\u001b[39;49m\u001b[39m.\u001b[39;49mnorm_type, \u001b[39mself\u001b[39;49m\u001b[39m.\u001b[39;49mscale_grad_by_freq, \u001b[39mself\u001b[39;49m\u001b[39m.\u001b[39;49msparse)\n",
      "File \u001b[1;32m~\\AppData\\Local\\Packages\\PythonSoftwareFoundation.Python.3.11_qbz5n2kfra8p0\\LocalCache\\local-packages\\Python311\\site-packages\\torch\\nn\\functional.py:2210\u001b[0m, in \u001b[0;36membedding\u001b[1;34m(input, weight, padding_idx, max_norm, norm_type, scale_grad_by_freq, sparse)\u001b[0m\n\u001b[0;32m   2204\u001b[0m     \u001b[39m# Note [embedding_renorm set_grad_enabled]\u001b[39;00m\n\u001b[0;32m   2205\u001b[0m     \u001b[39m# XXX: equivalent to\u001b[39;00m\n\u001b[0;32m   2206\u001b[0m     \u001b[39m# with torch.no_grad():\u001b[39;00m\n\u001b[0;32m   2207\u001b[0m     \u001b[39m#   torch.embedding_renorm_\u001b[39;00m\n\u001b[0;32m   2208\u001b[0m     \u001b[39m# remove once script supports set_grad_enabled\u001b[39;00m\n\u001b[0;32m   2209\u001b[0m     _no_grad_embedding_renorm_(weight, \u001b[39minput\u001b[39m, max_norm, norm_type)\n\u001b[1;32m-> 2210\u001b[0m \u001b[39mreturn\u001b[39;00m torch\u001b[39m.\u001b[39;49membedding(weight, \u001b[39minput\u001b[39;49m, padding_idx, scale_grad_by_freq, sparse)\n",
      "\u001b[1;31mRuntimeError\u001b[0m: Expected tensor for argument #1 'indices' to have one of the following scalar types: Long, Int; but got torch.FloatTensor instead (while checking arguments for embedding)"
     ]
    }
   ],
   "source": [
    "\n",
    "optimizer=torch.optim.AdamW(model.parameters(),lr=learning_rate)\n",
    "for iter in range(max_iter):\n",
    "    xb, yb=get_batch('train')\n",
    "\n",
    "    #Evluate loss\n",
    "\n",
    "    logit, loss=model.forward(xb,yb)\n",
    "    optimizer.zerograd(set_to_none=True)\n",
    "    loss.backward()\n",
    "    optimizer.step()\n",
    "print(loss)"
   ]
  }
 ],
 "metadata": {
  "kernelspec": {
   "display_name": "Python 3",
   "language": "python",
   "name": "python3"
  },
  "language_info": {
   "codemirror_mode": {
    "name": "ipython",
    "version": 3
   },
   "file_extension": ".py",
   "mimetype": "text/x-python",
   "name": "python",
   "nbconvert_exporter": "python",
   "pygments_lexer": "ipython3",
   "version": "3.11.5"
  },
  "orig_nbformat": 4
 },
 "nbformat": 4,
 "nbformat_minor": 2
}

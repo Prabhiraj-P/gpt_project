{
 "cells": [
  {
   "cell_type": "code",
   "execution_count": 1,
   "metadata": {},
   "outputs": [],
   "source": [
    "import torch\n",
    "import torch.nn as nn\n",
    "import torch.nn.functional as F\n",
    "import matplotlib.pyplot as plt"
   ]
  },
  {
   "cell_type": "code",
   "execution_count": 2,
   "metadata": {},
   "outputs": [],
   "source": [
    "block_size=8\n",
    "batch_size=4\n",
    "max_iter=10000\n",
    "learning_rate=3e-4"
   ]
  },
  {
   "cell_type": "code",
   "execution_count": 3,
   "metadata": {},
   "outputs": [
    {
     "name": "stdout",
     "output_type": "stream",
     "text": [
      "cpu\n"
     ]
    }
   ],
   "source": [
    "device='cuda' if torch.cuda.is_available() else 'cpu'\n",
    "print(device)"
   ]
  },
  {
   "cell_type": "code",
   "execution_count": 4,
   "metadata": {},
   "outputs": [],
   "source": [
    "with open('wizard_of_oz.txt','r',encoding='utf-8') as f:\n",
    "    text=f.read()"
   ]
  },
  {
   "cell_type": "code",
   "execution_count": 5,
   "metadata": {},
   "outputs": [
    {
     "name": "stdout",
     "output_type": "stream",
     "text": [
      " the length of char is 80\n",
      "['\\n', ' ', '!', '\"', '&', \"'\", '(', ')', '*', ',', '-', '.', '0', '1', '2', '3', '4', '5', '6', '7', '8', '9', ':', ';', '?', 'A', 'B', 'C', 'D', 'E', 'F', 'G', 'H', 'I', 'J', 'K', 'L', 'M', 'N', 'O', 'P', 'Q', 'R', 'S', 'T', 'U', 'V', 'W', 'X', 'Y', 'Z', '[', ']', '_', 'a', 'b', 'c', 'd', 'e', 'f', 'g', 'h', 'i', 'j', 'k', 'l', 'm', 'n', 'o', 'p', 'q', 'r', 's', 't', 'u', 'v', 'w', 'x', 'y', 'z']\n"
     ]
    }
   ],
   "source": [
    "char=sorted(set(text))\n",
    "print(' the length of char is {}'.format(len(char)))\n",
    "print(char)\n",
    "vocab_size=len(char)"
   ]
  },
  {
   "cell_type": "code",
   "execution_count": 6,
   "metadata": {},
   "outputs": [],
   "source": [
    "string_to_int={ch:i for i, ch in enumerate(char)}\n",
    "int_to_string={i:ch for i, ch in enumerate(char)}\n",
    "encode=lambda s:[string_to_int[c] for c in s]\n",
    "decode=lambda s:\"\".join([int_to_string[c] for c in s])"
   ]
  },
  {
   "cell_type": "code",
   "execution_count": 7,
   "metadata": {},
   "outputs": [],
   "source": [
    "data = torch.tensor(encode(text), dtype=torch.long)"
   ]
  },
  {
   "cell_type": "code",
   "execution_count": 8,
   "metadata": {},
   "outputs": [
    {
     "data": {
      "text/plain": [
       "tensor([ 1,  1, 28, 39, 42, 39, 44, 32, 49,  1])"
      ]
     },
     "execution_count": 8,
     "metadata": {},
     "output_type": "execute_result"
    }
   ],
   "source": [
    "data[:10]"
   ]
  },
  {
   "cell_type": "markdown",
   "metadata": {},
   "source": [
    "# splitting data for training and validating"
   ]
  },
  {
   "cell_type": "code",
   "execution_count": 9,
   "metadata": {},
   "outputs": [],
   "source": [
    "n=int(len(text)*0.8)\n",
    "train_data=data[:n]\n",
    "val_data=data[n:]"
   ]
  },
  {
   "cell_type": "code",
   "execution_count": 10,
   "metadata": {},
   "outputs": [
    {
     "name": "stdout",
     "output_type": "stream",
     "text": [
      "when input is  tensor([1]) target is  tensor(1)\n",
      "when input is  tensor([1, 1]) target is  tensor(28)\n",
      "when input is  tensor([ 1,  1, 28]) target is  tensor(39)\n",
      "when input is  tensor([ 1,  1, 28, 39]) target is  tensor(42)\n",
      "when input is  tensor([ 1,  1, 28, 39, 42]) target is  tensor(39)\n",
      "when input is  tensor([ 1,  1, 28, 39, 42, 39]) target is  tensor(44)\n",
      "when input is  tensor([ 1,  1, 28, 39, 42, 39, 44]) target is  tensor(32)\n",
      "when input is  tensor([ 1,  1, 28, 39, 42, 39, 44, 32]) target is  tensor(49)\n"
     ]
    }
   ],
   "source": [
    "\n",
    "x=train_data[:block_size]\n",
    "y=train_data[1:block_size+1]\n",
    "for t in range(block_size):\n",
    "    context=x[:t+1]\n",
    "    target=y[t]\n",
    "    print(\"when input is \",context,'target is ',target)"
   ]
  },
  {
   "cell_type": "code",
   "execution_count": 11,
   "metadata": {},
   "outputs": [
    {
     "name": "stdout",
     "output_type": "stream",
     "text": [
      "tensor([0.0117, 0.0317, 0.0861, 0.2341, 0.6364])\n"
     ]
    }
   ],
   "source": [
    "#softmax\n",
    "tensor1=torch.Tensor([1,2,3,4,5])\n",
    "softmax_tensor=F.softmax(tensor1,dim=0)\n",
    "\n",
    "print(softmax_tensor)"
   ]
  },
  {
   "cell_type": "code",
   "execution_count": 12,
   "metadata": {},
   "outputs": [
    {
     "name": "stdout",
     "output_type": "stream",
     "text": [
      "torch.Size([4, 100])\n"
     ]
    }
   ],
   "source": [
    "#initializing an embedding layer\n",
    "vocal_size=1000\n",
    "embedding_layer=100\n",
    "#Creating embedding layer\n",
    "embedding=nn.Embedding(vocal_size,embedding_layer)\n",
    "#initialising input\n",
    "input_indice=torch.LongTensor([1,5,3,2])\n",
    "#Applying the embedding layer\n",
    "embedding_output=embedding(input_indice)\n",
    "print(embedding_output.shape)"
   ]
  },
  {
   "cell_type": "code",
   "execution_count": 13,
   "metadata": {},
   "outputs": [],
   "source": [
    "#Get batch function\n",
    "def get_batch(split):\n",
    "    data=train_data if split=='train' else val_data\n",
    "    ix=torch.randint(len(data)-block_size,(batch_size,))\n",
    "    #print(ix)\n",
    "    x=torch.stack([data[i:i+block_size] for i in ix])\n",
    "    y=torch.stack([data[i+1:i+block_size+1] for i in ix])\n",
    "    return x, y\n"
   ]
  },
  {
   "cell_type": "code",
   "execution_count": 14,
   "metadata": {},
   "outputs": [
    {
     "name": "stdout",
     "output_type": "stream",
     "text": [
      "tensor([[58,  1, 73, 61, 54, 73,  1, 54],\n",
      "        [73, 68,  1, 74, 67, 61, 54, 71],\n",
      "        [58, 72, 73, 58, 57,  1, 54, 67],\n",
      "        [54, 72,  1, 55, 54, 71, 58,  1]])\n",
      "tensor([[ 1, 73, 61, 54, 73,  1, 54, 65],\n",
      "        [68,  1, 74, 67, 61, 54, 71, 67],\n",
      "        [72, 73, 58, 57,  1, 54, 67, 57],\n",
      "        [72,  1, 55, 54, 71, 58,  1, 72]])\n"
     ]
    }
   ],
   "source": [
    "x, y=get_batch('train')\n",
    "print(x)\n",
    "print(y)"
   ]
  },
  {
   "cell_type": "markdown",
   "metadata": {},
   "source": [
    "# Class"
   ]
  },
  {
   "cell_type": "code",
   "execution_count": 15,
   "metadata": {},
   "outputs": [],
   "source": [
    "class BigramLanguageModel(nn.Module):\n",
    "    def __init__(self,vocab_size):\n",
    "        super().__init__()\n",
    "        self.token_embedding_table=nn.Embedding(vocab_size,vocab_size)\n",
    "    \n",
    "    def forward(self,index,target=None):\n",
    "        logit=self.token_embedding_table(index)\n",
    "        if target==None:\n",
    "            loss=None\n",
    "        else:\n",
    "         #geting shape of logits\n",
    "         B, T, C=logit.shape\n",
    "         logit=logit.view(B*T,C)\n",
    "         target=target.view(B*T)\n",
    "         loss=F.cross_entropy(logit,target)\n",
    "        \n",
    "        return logit, loss\n",
    "    \n",
    "    def generate(self,index,max_new_tokens):\n",
    "        #index is (B,T) array of indices in the current content\n",
    "        for _ in range(max_new_tokens):\n",
    "            #get prediction\n",
    "            logit, loss=self.forward(index)\n",
    "            #focus only on last step\n",
    "            logit=logit[:,-1,:] #becomes (B,C)\n",
    "            probs=F.softmax(logit,dim=-1) #(B,C)\n",
    "            index_next=torch.multinomial(probs,num_samples=1)\n",
    "            #append sampled index to the running sequence\n",
    "            index=torch.cat((index,index_next),dim=1)\n",
    "        return index\n"
   ]
  },
  {
   "cell_type": "code",
   "execution_count": 16,
   "metadata": {},
   "outputs": [],
   "source": [
    "model=BigramLanguageModel(vocab_size)"
   ]
  },
  {
   "cell_type": "code",
   "execution_count": 17,
   "metadata": {},
   "outputs": [],
   "source": [
    "context=torch.zeros((1,1),dtype=torch.long,)"
   ]
  },
  {
   "cell_type": "code",
   "execution_count": 18,
   "metadata": {},
   "outputs": [
    {
     "data": {
      "text/plain": [
       "501"
      ]
     },
     "execution_count": 18,
     "metadata": {},
     "output_type": "execute_result"
    }
   ],
   "source": [
    "len(model.generate(\n",
    "    context,\n",
    "    max_new_tokens=500)[0].tolist())"
   ]
  },
  {
   "cell_type": "code",
   "execution_count": 19,
   "metadata": {},
   "outputs": [
    {
     "name": "stdout",
     "output_type": "stream",
     "text": [
      "\n",
      "_I8 V9tFyYs8]'QAYjMcA*\"tj.Su8_?4s0pQm2k2_&t,H3a kx'ZCba;'W,2n'O\";AYy1.8mGQSd\n",
      "qpiJ:gESEB\"3cEvh.FHpUfb&i8,V8U9e*Ixn*o,bC:]7Tzu4\n",
      "15\"6J'Nn;YwNX-i'fpqe*pkm\"73k?L;Y9Y9D\"THK_QY;isHp-kWm&B,fbJl,bY3ZXY)?1h78Y0c'r-N0gSR5TYd.lKS'PLpQcs; 8p[DeVIxyvtr]B[piED?00f-FJbyd\"El&IBPR3j9!n4'4\n",
      "IUKCiO6n.x,Mf3?L:V Rcv;?9lWgF(b0nB' Pq6-k'2Nzk18QD7s&]In2ACJ[?MP1i9sTjkYLea7\"oT5tj l &*d\" VMXOQZzseX0dkxHmh.VwnEZGW:P-g!yCOrhJWt.G*8\n",
      "]i7Na*pR*!abHm;hl0OyCb?PXM]ZDek1Ix7V)k9AeO\"8pPY,3hqpQrJF9']hPL&t.CRfb4-s8zcG ),yNXhVwZ(4K3S.Q3-\n"
     ]
    }
   ],
   "source": [
    "generated_char=decode(model.generate(\n",
    "    context,\n",
    "    max_new_tokens=500)[0].tolist()\n",
    ")\n",
    "print(generated_char)\n"
   ]
  },
  {
   "cell_type": "markdown",
   "metadata": {},
   "source": [
    "# Optimiser"
   ]
  },
  {
   "cell_type": "code",
   "execution_count": 20,
   "metadata": {},
   "outputs": [],
   "source": [
    "losst=[]"
   ]
  },
  {
   "cell_type": "code",
   "execution_count": 21,
   "metadata": {},
   "outputs": [
    {
     "name": "stdout",
     "output_type": "stream",
     "text": [
      "tensor(2.3389, grad_fn=<NllLossBackward0>)\n"
     ]
    }
   ],
   "source": [
    "\n",
    "optimizer=torch.optim.AdamW(model.parameters(),lr=learning_rate)\n",
    "\n",
    "for iter in range(max_iter*20):\n",
    "    xb, yb=get_batch('train')\n",
    "\n",
    "    #Evluate loss\n",
    "\n",
    "    logit, loss=model.forward(xb,yb)\n",
    "    losst.append(loss)\n",
    "    optimizer.zero_grad(set_to_none=True)\n",
    "    loss.backward()\n",
    "    optimizer.step()\n",
    "print(loss)"
   ]
  },
  {
   "cell_type": "code",
   "execution_count": 22,
   "metadata": {},
   "outputs": [],
   "source": [
    "import seaborn as sns"
   ]
  },
  {
   "cell_type": "code",
   "execution_count": 23,
   "metadata": {},
   "outputs": [
    {
     "data": {
      "text/plain": [
       "[<matplotlib.lines.Line2D at 0x2291e1b1450>]"
      ]
     },
     "execution_count": 23,
     "metadata": {},
     "output_type": "execute_result"
    },
    {
     "data": {
      "image/png": "[encoded data removed]",
      "text/plain": [
       "<Figure size 640x480 with 1 Axes>"
      ]
     },
     "metadata": {},
     "output_type": "display_data"
    }
   ],
   "source": [
    "plt.plot([x.item() for x in losst])"
   ]
  },
  {
   "cell_type": "code",
   "execution_count": 24,
   "metadata": {},
   "outputs": [
    {
     "name": "stdout",
     "output_type": "stream",
     "text": [
      "tensor([[[0.2438, 0.8844, 0.8073, 0.2138, 0.6177, 0.8998, 0.9042, 0.4286,\n",
      "          0.0878, 0.2178],\n",
      "         [0.4840, 0.5191, 0.9614, 0.9682, 0.8907, 0.9514, 0.4547, 0.7993,\n",
      "          0.3290, 0.4773],\n",
      "         [0.2590, 0.9308, 0.4121, 0.7026, 0.3312, 0.9679, 0.4455, 0.8683,\n",
      "          0.4368, 0.2391],\n",
      "         [0.4447, 0.1196, 0.6646, 0.7479, 0.4412, 0.6668, 0.4926, 0.2575,\n",
      "          0.9029, 0.6151],\n",
      "         [0.7356, 0.7238, 0.6110, 0.2009, 0.5296, 0.8061, 0.8813, 0.8309,\n",
      "          0.6918, 0.4380],\n",
      "         [0.3555, 0.8936, 0.3937, 0.1513, 0.1411, 0.2640, 0.7022, 0.7592,\n",
      "          0.4205, 0.5610]],\n",
      "\n",
      "        [[0.2591, 0.8347, 0.1585, 0.1912, 0.0382, 0.7871, 0.9167, 0.6851,\n",
      "          0.3779, 0.4414],\n",
      "         [0.6335, 0.4701, 0.9473, 0.9974, 0.2205, 0.0387, 0.6556, 0.6486,\n",
      "          0.9521, 0.8144],\n",
      "         [0.6049, 0.0394, 0.8076, 0.3920, 0.5939, 0.7497, 0.4142, 0.7449,\n",
      "          0.9474, 0.5794],\n",
      "         [0.5884, 0.6529, 0.4686, 0.9015, 0.3369, 0.9544, 0.4328, 0.7844,\n",
      "          0.5781, 0.2514],\n",
      "         [0.9446, 0.0231, 0.6873, 0.3162, 0.0716, 0.1894, 0.7782, 0.3522,\n",
      "          0.8244, 0.5798],\n",
      "         [0.6601, 0.7446, 0.7285, 0.2429, 0.1321, 0.3281, 0.3790, 0.3623,\n",
      "          0.5303, 0.4022]],\n",
      "\n",
      "        [[0.4189, 0.0144, 0.7177, 0.6265, 0.5235, 0.6869, 0.3318, 0.5351,\n",
      "          0.9373, 0.7213],\n",
      "         [0.3615, 0.6101, 0.6390, 0.3502, 0.2203, 0.5764, 0.3407, 0.2474,\n",
      "          0.8057, 0.7181],\n",
      "         [0.1043, 0.5221, 0.1446, 0.9632, 0.2187, 0.2396, 0.7147, 0.2419,\n",
      "          0.4364, 0.4123],\n",
      "         [0.6752, 0.4999, 0.4734, 0.5997, 0.0809, 0.2392, 0.1185, 0.5842,\n",
      "          0.9598, 0.8497],\n",
      "         [0.9580, 0.9154, 0.2714, 0.9694, 0.1774, 0.9909, 0.7601, 0.0424,\n",
      "          0.2375, 0.5754],\n",
      "         [0.2957, 0.8144, 0.5017, 0.5358, 0.2340, 0.1340, 0.5618, 0.5622,\n",
      "          0.8542, 0.5289]],\n",
      "\n",
      "        [[0.6050, 0.0521, 0.3376, 0.2680, 0.9503, 0.1294, 0.1581, 0.1564,\n",
      "          0.7114, 0.1395],\n",
      "         [0.4021, 0.1675, 0.0538, 0.0618, 0.5463, 0.7103, 0.4243, 0.4677,\n",
      "          0.5811, 0.7407],\n",
      "         [0.1460, 0.2975, 0.3054, 0.7569, 0.1150, 0.8061, 0.7910, 0.4610,\n",
      "          0.4886, 0.8098],\n",
      "         [0.6358, 0.9163, 0.4981, 0.3216, 0.3347, 0.0985, 0.9434, 0.9048,\n",
      "          0.7936, 0.8200],\n",
      "         [0.7709, 0.5077, 0.0770, 0.8642, 0.0895, 0.2077, 0.0582, 0.1131,\n",
      "          0.9092, 0.7187],\n",
      "         [0.4020, 0.6498, 0.8401, 0.8409, 0.1493, 0.9120, 0.4259, 0.6757,\n",
      "          0.5030, 0.5733]]])\n",
      "after \n",
      " tensor([[0.2438, 0.8844, 0.8073, 0.2138, 0.6177, 0.8998, 0.9042, 0.4286, 0.0878,\n",
      "         0.2178],\n",
      "        [0.4840, 0.5191, 0.9614, 0.9682, 0.8907, 0.9514, 0.4547, 0.7993, 0.3290,\n",
      "         0.4773],\n",
      "        [0.2590, 0.9308, 0.4121, 0.7026, 0.3312, 0.9679, 0.4455, 0.8683, 0.4368,\n",
      "         0.2391],\n",
      "        [0.4447, 0.1196, 0.6646, 0.7479, 0.4412, 0.6668, 0.4926, 0.2575, 0.9029,\n",
      "         0.6151],\n",
      "        [0.7356, 0.7238, 0.6110, 0.2009, 0.5296, 0.8061, 0.8813, 0.8309, 0.6918,\n",
      "         0.4380],\n",
      "        [0.3555, 0.8936, 0.3937, 0.1513, 0.1411, 0.2640, 0.7022, 0.7592, 0.4205,\n",
      "         0.5610],\n",
      "        [0.2591, 0.8347, 0.1585, 0.1912, 0.0382, 0.7871, 0.9167, 0.6851, 0.3779,\n",
      "         0.4414],\n",
      "        [0.6335, 0.4701, 0.9473, 0.9974, 0.2205, 0.0387, 0.6556, 0.6486, 0.9521,\n",
      "         0.8144],\n",
      "        [0.6049, 0.0394, 0.8076, 0.3920, 0.5939, 0.7497, 0.4142, 0.7449, 0.9474,\n",
      "         0.5794],\n",
      "        [0.5884, 0.6529, 0.4686, 0.9015, 0.3369, 0.9544, 0.4328, 0.7844, 0.5781,\n",
      "         0.2514],\n",
      "        [0.9446, 0.0231, 0.6873, 0.3162, 0.0716, 0.1894, 0.7782, 0.3522, 0.8244,\n",
      "         0.5798],\n",
      "        [0.6601, 0.7446, 0.7285, 0.2429, 0.1321, 0.3281, 0.3790, 0.3623, 0.5303,\n",
      "         0.4022],\n",
      "        [0.4189, 0.0144, 0.7177, 0.6265, 0.5235, 0.6869, 0.3318, 0.5351, 0.9373,\n",
      "         0.7213],\n",
      "        [0.3615, 0.6101, 0.6390, 0.3502, 0.2203, 0.5764, 0.3407, 0.2474, 0.8057,\n",
      "         0.7181],\n",
      "        [0.1043, 0.5221, 0.1446, 0.9632, 0.2187, 0.2396, 0.7147, 0.2419, 0.4364,\n",
      "         0.4123],\n",
      "        [0.6752, 0.4999, 0.4734, 0.5997, 0.0809, 0.2392, 0.1185, 0.5842, 0.9598,\n",
      "         0.8497],\n",
      "        [0.9580, 0.9154, 0.2714, 0.9694, 0.1774, 0.9909, 0.7601, 0.0424, 0.2375,\n",
      "         0.5754],\n",
      "        [0.2957, 0.8144, 0.5017, 0.5358, 0.2340, 0.1340, 0.5618, 0.5622, 0.8542,\n",
      "         0.5289],\n",
      "        [0.6050, 0.0521, 0.3376, 0.2680, 0.9503, 0.1294, 0.1581, 0.1564, 0.7114,\n",
      "         0.1395],\n",
      "        [0.4021, 0.1675, 0.0538, 0.0618, 0.5463, 0.7103, 0.4243, 0.4677, 0.5811,\n",
      "         0.7407],\n",
      "        [0.1460, 0.2975, 0.3054, 0.7569, 0.1150, 0.8061, 0.7910, 0.4610, 0.4886,\n",
      "         0.8098],\n",
      "        [0.6358, 0.9163, 0.4981, 0.3216, 0.3347, 0.0985, 0.9434, 0.9048, 0.7936,\n",
      "         0.8200],\n",
      "        [0.7709, 0.5077, 0.0770, 0.8642, 0.0895, 0.2077, 0.0582, 0.1131, 0.9092,\n",
      "         0.7187],\n",
      "        [0.4020, 0.6498, 0.8401, 0.8409, 0.1493, 0.9120, 0.4259, 0.6757, 0.5030,\n",
      "         0.5733]])\n"
     ]
    }
   ],
   "source": [
    "input_test=torch.rand((4,6,10))\n",
    "B,T,C=input_test.shape\n",
    "print(input_test)\n",
    "input_test=input_test.view(B*T,C)\n",
    "\n",
    "print('after \\n',input_test)\n"
   ]
  }
 ],
 "metadata": {
  "kernelspec": {
   "display_name": "Python 3",
   "language": "python",
   "name": "python3"
  },
  "language_info": {
   "codemirror_mode": {
    "name": "ipython",
    "version": 3
   },
   "file_extension": ".py",
   "mimetype": "text/x-python",
   "name": "python",
   "nbconvert_exporter": "python",
   "pygments_lexer": "ipython3",
   "version": "3.11.6"
  },
  "orig_nbformat": 4
 },
 "nbformat": 4,
 "nbformat_minor": 2
}
